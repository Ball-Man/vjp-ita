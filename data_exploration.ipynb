{
 "cells": [
  {
   "cell_type": "code",
   "execution_count": 2,
   "id": "38bf0779",
   "metadata": {},
   "outputs": [],
   "source": [
    "import matplotlib.pyplot as plt\n",
    "import networkx as nx\n",
    "\n",
    "import vjp.data as data"
   ]
  },
  {
   "cell_type": "markdown",
   "id": "1363f51b",
   "metadata": {},
   "source": [
    "## Data distribution"
   ]
  },
  {
   "cell_type": "code",
   "execution_count": 3,
   "id": "8215e409",
   "metadata": {},
   "outputs": [],
   "source": [
    "second_instance_samples = data.load_second_instance()"
   ]
  },
  {
   "cell_type": "markdown",
   "id": "eb9ca6fa",
   "metadata": {},
   "source": [
    "Samples are parsed as Python XML element trees. Queries can be done per-element through [the XPath syntax](https://docs.python.org/3/library/xml.etree.elementtree.html#supported-xpath-syntax). `vjp.data.findall` permits querying an entire list. All results from all queries are added to an output list."
   ]
  },
  {
   "cell_type": "code",
   "execution_count": 4,
   "id": "b5cae14e",
   "metadata": {},
   "outputs": [
    {
     "name": "stdout",
     "output_type": "stream",
     "text": [
      "Number of instances 219\n",
      "Number of second instance requests 2\n",
      "Number of second instance decisions 249\n",
      "Of which upheld 110\n",
      "Of which rejected 135\n",
      "Other outcomes 4\n"
     ]
    }
   ],
   "source": [
    "print('Number of instances', len(second_instance_samples))\n",
    "print('Number of second instance requests',\n",
    "      len(data.findall(second_instance_samples, \".//partreq[@G='2']/req\")))\n",
    "\n",
    "decisions, decision_mapping = data.findall(second_instance_samples,\n",
    "                                           \".//courtdec[@G='2']/dec\")\n",
    "upheld, _ = data.findall(decisions, \".[@E='1']\")\n",
    "rejected, _ = data.findall(decisions, \".[@E='0']\")\n",
    "print('Number of second instance decisions', len(decisions))\n",
    "print('Of which upheld', len(upheld))\n",
    "print('Of which rejected', len(rejected))\n",
    "print('Other outcomes', len(decisions) - len(upheld) - len(rejected))"
   ]
  },
  {
   "cell_type": "markdown",
   "id": "b7f35153",
   "metadata": {},
   "source": [
    "Exploring requests IDS, claims and arguments to get a full picture of their interconnections shows that some values can be `None` and tagnames are not always consistent. Malformed statements could maybe be manually repaired, but they will be simply ignored for now."
   ]
  },
  {
   "cell_type": "code",
   "execution_count": 5,
   "id": "33f48411",
   "metadata": {},
   "outputs": [
    {
     "name": "stdout",
     "output_type": "stream",
     "text": [
      "Request IDs {'Req6', 'Req20', 'Req9', 'Req3', 'Req1', 'Req5', 'Req3bis', 'Req21', 'Req11', 'Req4', 'Req7', 'Req30', 'Req2', 'Req8', 'Req2bis', 'Req10'} \n",
      "\n",
      "Claim PROs {'Req20', 'Req3', 'Req3|Req4', 'Req21', 'Req4|5', 'Req7', 'Req3|Req4|Req5', 'Req2|Req3', 'Req2bis', 'Req4', 'Costreq1', 'Req5', 'Req11', 'Req10', None, 'Req1', 'Req2', 'Req8', 'Req6'} \n",
      "\n",
      "Arg PROs {'Claim1|Claim2|Claim3', 'Claim1|Claim2', 'Claim4', 'Claim6bis', 'Claim13', 'Claim5', 'Claim3', 'Claim11', 'Claim7', 'Claim21', 'Claim9', 'Claim8', 'Claim6', 'Claim4bis', 'Req4', 'Claim3|Claim4', 'Req5', 'Claim3bis', 'Claim10', None, 'Claim1', 'Claim15', 'Claim12', 'Claim14', 'Claim2', 'Claim20'} \n",
      "\n"
     ]
    }
   ],
   "source": [
    "reqs, _ = data.findall(second_instance_samples,\n",
    "                       \".//partreq[@G='2']/req\")\n",
    "print('Request IDs', set(req.get('ID') for req in reqs), '\\n')\n",
    "\n",
    "claims, _ = data.findall(second_instance_samples,\n",
    "                         \".//partreq[@G='2']/claim\")\n",
    "print('Claim PROs', set(claim.get('PRO') for claim in claims), '\\n')\n",
    "\n",
    "args, _ = data.findall(second_instance_samples,\n",
    "                       \".//partreq[@G='2']/arg\")\n",
    "print('Arg PROs', set(arg.get('PRO') for arg in args), '\\n')\n"
   ]
  },
  {
   "cell_type": "markdown",
   "id": "ebffefae",
   "metadata": {},
   "source": [
    "Some decisions reference multiple requests. A decision that implies the result of multiple requests may be later splitted.\n",
    "\n",
    "Some decisions reference claims. This shall be investigated (do they imply a label for some given requests?). The number is relatively small, they could be ignored. "
   ]
  },
  {
   "cell_type": "code",
   "execution_count": 6,
   "id": "25ab5d87",
   "metadata": {},
   "outputs": [
    {
     "name": "stdout",
     "output_type": "stream",
     "text": [
      "{'Claim1', 'Req20', 'Claim4', 'Req3', 'Req1', 'Req5', 'Req3|Req4|Req5', 'Req2|Req5', 'Req4|Req5', 'Claim3', 'Req4', 'Claim5', 'Req2|Req3', 'Req10', 'Req2', 'Req1|Req2', 'Claim2', 'Req6'}\n",
      "Number of claim objects:  6\n"
     ]
    }
   ],
   "source": [
    "objects = tuple(map(lambda x: x.get('O'), decisions))\n",
    "print(set(objects))\n",
    "print('Number of claim objects: ',\n",
    "      len(tuple(filter(lambda s: not s.startswith('Req'), objects))))"
   ]
  },
  {
   "cell_type": "markdown",
   "id": "d3585684",
   "metadata": {},
   "source": [
    "Given the very low amount of different outcomes, the problem will be treated as a binary classification one. Labels are not perfectly balanced."
   ]
  },
  {
   "cell_type": "code",
   "execution_count": 7,
   "id": "86fca7c6",
   "metadata": {},
   "outputs": [
    {
     "data": {
      "text/plain": [
       "(array([110.,   0.,   0., 135.,   0.,   0.,   3.,   0.,   0.,   1.]),\n",
       " array([0. , 0.3, 0.6, 0.9, 1.2, 1.5, 1.8, 2.1, 2.4, 2.7, 3. ]),\n",
       " <BarContainer object of 10 artists>)"
      ]
     },
     "execution_count": 7,
     "metadata": {},
     "output_type": "execute_result"
    },
    {
     "data": {
      "image/png": "[encoded data removed]",
      "text/plain": [
       "<Figure size 640x480 with 1 Axes>"
      ]
     },
     "metadata": {},
     "output_type": "display_data"
    }
   ],
   "source": [
    "plt.hist(tuple(map(lambda x: x.get('E'), decisions)))"
   ]
  },
  {
   "cell_type": "markdown",
   "id": "7706cc6a",
   "metadata": {},
   "source": [
    "Other outcomes can be dropped."
   ]
  },
  {
   "cell_type": "code",
   "execution_count": 8,
   "id": "047d9c8e",
   "metadata": {},
   "outputs": [],
   "source": [
    "decisions = upheld + rejected"
   ]
  },
  {
   "cell_type": "markdown",
   "id": "b13ffb50",
   "metadata": {},
   "source": [
    "Data will need some processing and handling of special cases. Some values can be `None` (empty tags?)."
   ]
  },
  {
   "cell_type": "code",
   "execution_count": 9,
   "id": "a17d643f",
   "metadata": {},
   "outputs": [
    {
     "name": "stdout",
     "output_type": "stream",
     "text": [
      "Accoglie l'appello e, in riforma della sentenza impugnata, rigetta il ricorso \n",
      "    della contribuente  \n",
      "\n",
      "La sezione pronunciando sull’appello proposto dal contribuente e dall'Ufficio avverso la sentenza 63/04/2009 emanata dalla Commissione Tributaria Provinciale de L'Aquila così provvede:\n",
      "\n",
      "\t\tAccoglie parzialmente l’appello del contribuente, limitatamente alla correzione dell'errore materiale, \n",
      "\n",
      "In parziale accoglimento sia dell'appello principale che dell'appello incidentale ed\n",
      "    inconseguente parziale riforma della decisione impugnata, dichiara la legittimità del\n",
      "    recupero a tassazione della somma portata a credito d'imposta; \n",
      "\n",
      "determina in complessivi €23.227,05 i recuperi per l'anno 2004; \n",
      "\n",
      "dichiara la illegittimità dei recuperi effettuati per i\n",
      "    servizi svolti ad opera della “Tennis Club SC” e del giornale “LN”. \n",
      "\n",
      "None \n",
      "\n",
      "Questa Commissione Tributaria Regionale accoglie l’appello della E S.r.l. \n",
      "        riconoscendo legittima l’istanza di rimborso avanzata dalla stessa alla competente Agenzia delle Entrate di Lucca. \n",
      "\n",
      "La Commissione Tributaria Regionale per il Friuli - Venezia Giulia — Sezione XI — accoglie l'appello e per l'effetto riforma l’impugnata decisione limitatamente al punto appellato con annullamento dell'avviso di accertamento, \n",
      "\n",
      "In riforma della sentenza appellata, accoglie l’appello e conferma\n",
      "    l’avviso di accertamento impugnato. \n",
      "\n",
      "In riforma della sentenza appellata, accoglie l’appello e conferma l’avviso di accertamento impugnato. \n",
      "\n"
     ]
    }
   ],
   "source": [
    "for decision in decisions[:10]:\n",
    "    print(decision.text, '\\n')"
   ]
  },
  {
   "cell_type": "markdown",
   "id": "8e35caf5",
   "metadata": {},
   "source": [
    "Some elements have multiple links. It is particularly interesting when it happens in decision tags, as each decision-request pair can form a new data sample. Iterative filtering and extraction of multiple links makes it possible to explore the whole \"tree\" of connections between nodes in the document, starting from decision tags and ending wherever it is decided.\n",
    "A minimal set of features would be: request, arguments and claim tags, labeled by the corresponding decision tag, as defined by [Galli et. al, 2022]."
   ]
  },
  {
   "cell_type": "code",
   "execution_count": 10,
   "id": "e9c821aa",
   "metadata": {
    "scrolled": true
   },
   "outputs": [
    {
     "name": "stdout",
     "output_type": "stream",
     "text": [
      "Number of multilinked decisions 12\n"
     ]
    }
   ],
   "source": [
    "multiple_link_decisions = tuple(filter(lambda e: '|' in e.get('O'), decisions))\n",
    "print('Number of multilinked decisions', len(multiple_link_decisions))"
   ]
  },
  {
   "cell_type": "markdown",
   "id": "928d21a2",
   "metadata": {},
   "source": [
    "## Graph tag representation\n",
    "\n",
    "To facilitate the task of composing different feature sets based on how they are linked, each document is flattened into a set of triples, then used to build a graph."
   ]
  },
  {
   "cell_type": "code",
   "execution_count": 11,
   "id": "d19c3538",
   "metadata": {},
   "outputs": [],
   "source": [
    "triples_dfs = [data.build_tag_triples(sample)\n",
    "               for sample in second_instance_samples]"
   ]
  },
  {
   "cell_type": "code",
   "execution_count": 12,
   "id": "08702b2d",
   "metadata": {},
   "outputs": [
    {
     "name": "stdout",
     "output_type": "stream",
     "text": [
      "(43, 3)\n"
     ]
    },
    {
     "data": {
      "text/html": [
       "<div>\n",
       "<style scoped>\n",
       "    .dataframe tbody tr th:only-of-type {\n",
       "        vertical-align: middle;\n",
       "    }\n",
       "\n",
       "    .dataframe tbody tr th {\n",
       "        vertical-align: top;\n",
       "    }\n",
       "\n",
       "    .dataframe thead th {\n",
       "        text-align: right;\n",
       "    }\n",
       "</style>\n",
       "<table border=\"1\" class=\"dataframe\">\n",
       "  <thead>\n",
       "    <tr style=\"text-align: right;\">\n",
       "      <th></th>\n",
       "      <th>source</th>\n",
       "      <th>target</th>\n",
       "      <th>edge</th>\n",
       "    </tr>\n",
       "  </thead>\n",
       "  <tbody>\n",
       "    <tr>\n",
       "      <th>0</th>\n",
       "      <td>Find11</td>\n",
       "      <td>Find6</td>\n",
       "      <td>D</td>\n",
       "    </tr>\n",
       "    <tr>\n",
       "      <th>1</th>\n",
       "      <td>Find4</td>\n",
       "      <td>Claim3</td>\n",
       "      <td>O</td>\n",
       "    </tr>\n",
       "    <tr>\n",
       "      <th>2</th>\n",
       "      <td>Find10</td>\n",
       "      <td>Find7</td>\n",
       "      <td>D</td>\n",
       "    </tr>\n",
       "    <tr>\n",
       "      <th>3</th>\n",
       "      <td>B1</td>\n",
       "      <td>B2</td>\n",
       "      <td>SUP</td>\n",
       "    </tr>\n",
       "    <tr>\n",
       "      <th>4</th>\n",
       "      <td>Find11</td>\n",
       "      <td>Find4</td>\n",
       "      <td>D</td>\n",
       "    </tr>\n",
       "  </tbody>\n",
       "</table>\n",
       "</div>"
      ],
      "text/plain": [
       "   source  target edge\n",
       "0  Find11   Find6    D\n",
       "1   Find4  Claim3    O\n",
       "2  Find10   Find7    D\n",
       "3      B1      B2  SUP\n",
       "4  Find11   Find4    D"
      ]
     },
     "execution_count": 12,
     "metadata": {},
     "output_type": "execute_result"
    }
   ],
   "source": [
    "print(triples_dfs[0].shape)\n",
    "triples_dfs[0].head()"
   ]
  },
  {
   "cell_type": "markdown",
   "id": "81194d13",
   "metadata": {},
   "source": [
    "A rapid check for null values (the builder function comes without warranty)"
   ]
  },
  {
   "cell_type": "code",
   "execution_count": 13,
   "id": "b8e967f5",
   "metadata": {},
   "outputs": [
    {
     "name": "stdout",
     "output_type": "stream",
     "text": [
      "False\n"
     ]
    }
   ],
   "source": [
    "check_null_list = [df.isnull().values.any() for df in triples_dfs]\n",
    "print(any(check_null_list))"
   ]
  },
  {
   "cell_type": "code",
   "execution_count": 73,
   "id": "2c483bf2",
   "metadata": {},
   "outputs": [
    {
     "data": {
      "text/plain": [
       "219"
      ]
     },
     "execution_count": 73,
     "metadata": {},
     "output_type": "execute_result"
    }
   ],
   "source": [
    "graphs = [nx.from_pandas_edgelist(triples, edge_attr='edge',\n",
    "                                  create_using=nx.DiGraph())\n",
    "          for triples in triples_dfs]\n",
    "len(graphs)"
   ]
  },
  {
   "cell_type": "code",
   "execution_count": 79,
   "id": "7311384f",
   "metadata": {},
   "outputs": [
    {
     "name": "stdout",
     "output_type": "stream",
     "text": [
      "Connected components ({'G3', 'G4', 'G2', 'G1'}, {'H2', 'H1', 'H3'}, {'Claim10', 'Claim9', 'Claim8', 'Req3', 'Claim12', 'Mot10', 'Claim11', 'Dec2', 'Mot9', 'Claim7', 'Mot8'}, {'Dec3', 'Arg7', 'Claim15', 'Mot6', 'Claim13', 'Arg9', 'Req4', 'Mot7', 'Arg8', 'Claim14'}, {'J9', 'J6', 'J1', 'J7', 'J8', 'J5'})\n"
     ]
    },
    {
     "data": {
      "image/png": "[encoded data removed]",
      "text/plain": [
       "<Figure size 640x480 with 1 Axes>"
      ]
     },
     "metadata": {},
     "output_type": "display_data"
    }
   ],
   "source": [
    "graph = graphs[1].copy()\n",
    "\n",
    "# Remove initial uninformative components\n",
    "for component in tuple(nx.connected_components(graph.to_undirected())):\n",
    "    if len(component) <= 2:\n",
    "        graph.remove_nodes_from(tuple(component))\n",
    "\n",
    "# Remove finds for a cleaner representation\n",
    "for node in tuple(graph.nodes):\n",
    "    if node.lower().startswith('find'):\n",
    "        graph.remove_node(node)\n",
    "\n",
    "print('Connected components',\n",
    "      tuple(nx.connected_components(graph.to_undirected())))\n",
    "\n",
    "graph_pos = nx.planar_layout(graph)\n",
    "nx.draw(graph, pos=graph_pos, node_size=0, font_size=10, with_labels=True,\n",
    "        arrowsize=7)"
   ]
  },
  {
   "cell_type": "code",
   "execution_count": null,
   "id": "fbb9c275",
   "metadata": {},
   "outputs": [
    {
     "name": "stdout",
     "output_type": "stream",
     "text": [
      "{'ID': 'Dec2', 'G': '2', 'E': '1', 'O': 'Req2|Req3', 'D': 'Mot1'}\n",
      "['Req2', 'Req3']\n"
     ]
    },
    {
     "data": {
      "text/plain": [
       "[<Element 'req' at 0x7fd30fe75a30>, <Element 'req' at 0x7fd30fe75a80>]"
      ]
     },
     "execution_count": 12,
     "metadata": {},
     "output_type": "execute_result"
    }
   ],
   "source": [
    "decision = multiple_link_decisions[0]\n",
    "print(decision.attrib)\n",
    "print(data.extract_link(decision, 'O'))\n",
    "data.extract_link_elements(decision_mapping[decision], decision, 'O')"
   ]
  },
  {
   "cell_type": "markdown",
   "id": "72923050",
   "metadata": {},
   "source": [
    "# References\n",
    "\n",
    "\n",
    "[Galli et. al, 2022]: Galli, F., Grundler, G., Fidelangeli, A., Galassi, A., Lagioia, F., Palmieri, E., Ruggeri, F., Sartor, G., & Torroni, P. (2022). Predicting outcomes of Italian VAT DECISIONS1. *Frontiers in Artificial Intelligence and Applications*. https://doi.org/10.3233/faia220465   "
   ]
  }
 ],
 "metadata": {
  "kernelspec": {
   "display_name": "VJP",
   "language": "python",
   "name": "vjp"
  },
  "language_info": {
   "codemirror_mode": {
    "name": "ipython",
    "version": 3
   },
   "file_extension": ".py",
   "mimetype": "text/x-python",
   "name": "python",
   "nbconvert_exporter": "python",
   "pygments_lexer": "ipython3",
   "version": "3.10.9"
  }
 },
 "nbformat": 4,
 "nbformat_minor": 5
}
