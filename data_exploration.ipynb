{
 "cells": [
  {
   "cell_type": "code",
   "execution_count": 1,
   "id": "38bf0779",
   "metadata": {},
   "outputs": [],
   "source": [
    "import matplotlib.pyplot as plt\n",
    "import networkx as nx\n",
    "import pandas as pd\n",
    "\n",
    "import vjp.data as data"
   ]
  },
  {
   "cell_type": "markdown",
   "id": "1363f51b",
   "metadata": {},
   "source": [
    "## Data distribution"
   ]
  },
  {
   "cell_type": "code",
   "execution_count": 2,
   "id": "8215e409",
   "metadata": {},
   "outputs": [],
   "source": [
    "second_instance_samples = data.load_second_instance()"
   ]
  },
  {
   "cell_type": "markdown",
   "id": "eb9ca6fa",
   "metadata": {},
   "source": [
    "Samples are parsed as Python XML element trees. Queries can be done per-element through [the XPath syntax](https://docs.python.org/3/library/xml.etree.elementtree.html#supported-xpath-syntax). `vjp.data.findall` permits querying an entire list. All results from all queries are added to an output list."
   ]
  },
  {
   "cell_type": "code",
   "execution_count": 3,
   "id": "b5cae14e",
   "metadata": {},
   "outputs": [
    {
     "name": "stdout",
     "output_type": "stream",
     "text": [
      "Number of instances 219\n",
      "Number of second instance requests 480\n",
      "Number of second instance decisions 249\n",
      "Of which upheld 110\n",
      "Of which rejected 135\n",
      "Other outcomes 4\n"
     ]
    }
   ],
   "source": [
    "print('Number of instances', len(second_instance_samples))\n",
    "print('Number of second instance requests',\n",
    "      len(data.findall(second_instance_samples, \".//partreq[@G='2']/req\")[0]))\n",
    "\n",
    "decisions, decision_mapping = data.findall(second_instance_samples,\n",
    "                                           \".//courtdec[@G='2']/dec\")\n",
    "upheld, _ = data.findall(decisions, \".[@E='1']\")\n",
    "rejected, _ = data.findall(decisions, \".[@E='0']\")\n",
    "print('Number of second instance decisions', len(decisions))\n",
    "print('Of which upheld', len(upheld))\n",
    "print('Of which rejected', len(rejected))\n",
    "print('Other outcomes', len(decisions) - len(upheld) - len(rejected))"
   ]
  },
  {
   "cell_type": "markdown",
   "id": "b7f35153",
   "metadata": {},
   "source": [
    "Exploring requests IDS, claims and arguments to get a full picture of their interconnections shows that some values can be `None` and tagnames are not always consistent. Malformed statements could maybe be manually repaired, but they will be simply ignored for now."
   ]
  },
  {
   "cell_type": "code",
   "execution_count": 4,
   "id": "33f48411",
   "metadata": {},
   "outputs": [
    {
     "name": "stdout",
     "output_type": "stream",
     "text": [
      "Request IDs {'Req3bis', 'Req21', 'Req1', 'Req4', 'Req6', 'Req9', 'Req30', 'Req11', 'Req7', 'Req5', 'Req2bis', 'Req3', 'Req2', 'Req10', 'Req8', 'Req20'} \n",
      "\n",
      "Claim PROs {'Costreq1', 'Req6', 'Req3|Req4|Req5', 'Req7', 'Req3|Req4', 'Req3', 'Req20', None, 'Req5', 'Req2bis', 'Req2|Req3', 'Req11', 'Req8', 'Req21', 'Req1', 'Req4', 'Req4|5', 'Req2', 'Req10'} \n",
      "\n",
      "Arg PROs {'Claim4bis', 'Claim15', 'Claim13', 'Claim6bis', 'Claim1|Claim2', 'Claim1|Claim2|Claim3', 'Claim5', 'Claim7', 'Claim8', 'Claim3', 'Claim1', 'Claim12', 'Claim2', 'Claim11', 'Claim20', 'Claim21', 'Claim14', 'Claim4', None, 'Claim3bis', 'Req5', 'Claim6', 'Req4', 'Claim10', 'Claim3|Claim4', 'Claim9'} \n",
      "\n"
     ]
    }
   ],
   "source": [
    "reqs, _ = data.findall(second_instance_samples,\n",
    "                       \".//partreq[@G='2']/req\")\n",
    "print('Request IDs', set(req.get('ID') for req in reqs), '\\n')\n",
    "\n",
    "claims, _ = data.findall(second_instance_samples,\n",
    "                         \".//partreq[@G='2']/claim\")\n",
    "print('Claim PROs', set(claim.get('PRO') for claim in claims), '\\n')\n",
    "\n",
    "args, _ = data.findall(second_instance_samples,\n",
    "                       \".//partreq[@G='2']/arg\")\n",
    "print('Arg PROs', set(arg.get('PRO') for arg in args), '\\n')\n"
   ]
  },
  {
   "cell_type": "markdown",
   "id": "ebffefae",
   "metadata": {},
   "source": [
    "Some decisions reference multiple requests. A decision that implies the result of multiple requests may be later splitted.\n",
    "\n",
    "Some decisions reference claims. This shall be investigated (do they imply a label for some given requests?). The number is relatively small, they could be ignored. "
   ]
  },
  {
   "cell_type": "code",
   "execution_count": 5,
   "id": "25ab5d87",
   "metadata": {},
   "outputs": [
    {
     "name": "stdout",
     "output_type": "stream",
     "text": [
      "{'Req1', 'Req4', 'Req6', 'Claim2', 'Claim5', 'Req4|Req5', 'Req3|Req4|Req5', 'Claim4', 'Req2|Req5', 'Req2|Req3', 'Req1|Req2', 'Claim3', 'Claim1', 'Req5', 'Req3', 'Req2', 'Req10', 'Req20'}\n",
      "Number of claim objects:  6\n"
     ]
    }
   ],
   "source": [
    "objects = tuple(map(lambda x: x.get('O'), decisions))\n",
    "print(set(objects))\n",
    "print('Number of claim objects: ',\n",
    "      len(tuple(filter(lambda s: not s.startswith('Req'), objects))))"
   ]
  },
  {
   "cell_type": "markdown",
   "id": "d3585684",
   "metadata": {},
   "source": [
    "Given the very low amount of different outcomes, the problem will be treated as a binary classification one. Labels are not perfectly balanced."
   ]
  },
  {
   "cell_type": "code",
   "execution_count": 6,
   "id": "86fca7c6",
   "metadata": {},
   "outputs": [
    {
     "data": {
      "text/plain": [
       "(array([110.,   0.,   0., 135.,   0.,   0.,   3.,   0.,   0.,   1.]),\n",
       " array([0. , 0.3, 0.6, 0.9, 1.2, 1.5, 1.8, 2.1, 2.4, 2.7, 3. ]),\n",
       " <BarContainer object of 10 artists>)"
      ]
     },
     "execution_count": 6,
     "metadata": {},
     "output_type": "execute_result"
    },
    {
     "data": {
      "image/png": "[encoded data removed]",
      "text/plain": [
       "<Figure size 640x480 with 1 Axes>"
      ]
     },
     "metadata": {},
     "output_type": "display_data"
    }
   ],
   "source": [
    "plt.hist(tuple(map(lambda x: x.get('E'), decisions)))"
   ]
  },
  {
   "cell_type": "markdown",
   "id": "7706cc6a",
   "metadata": {},
   "source": [
    "Other outcomes can be dropped."
   ]
  },
  {
   "cell_type": "code",
   "execution_count": 7,
   "id": "047d9c8e",
   "metadata": {},
   "outputs": [],
   "source": [
    "decisions = upheld + rejected\n",
    "second_instance_samples = list(set(decision_mapping[decision]\n",
    "                                   for decision in decisions))"
   ]
  },
  {
   "cell_type": "markdown",
   "id": "b13ffb50",
   "metadata": {},
   "source": [
    "Data will need some processing and handling of special cases. Some values can be `None` (empty tags?)."
   ]
  },
  {
   "cell_type": "code",
   "execution_count": 8,
   "id": "a17d643f",
   "metadata": {},
   "outputs": [
    {
     "name": "stdout",
     "output_type": "stream",
     "text": [
      "Accoglie l'appello e, in riforma della sentenza impugnata, rigetta il ricorso \n",
      "    della contribuente  \n",
      "\n",
      "La sezione pronunciando sull’appello proposto dal contribuente e dall'Ufficio avverso la sentenza 63/04/2009 emanata dalla Commissione Tributaria Provinciale de L'Aquila così provvede:\n",
      "\n",
      "\t\tAccoglie parzialmente l’appello del contribuente, limitatamente alla correzione dell'errore materiale, \n",
      "\n",
      "In parziale accoglimento sia dell'appello principale che dell'appello incidentale ed\n",
      "    inconseguente parziale riforma della decisione impugnata, dichiara la legittimità del\n",
      "    recupero a tassazione della somma portata a credito d'imposta; \n",
      "\n",
      "determina in complessivi €23.227,05 i recuperi per l'anno 2004; \n",
      "\n",
      "dichiara la illegittimità dei recuperi effettuati per i\n",
      "    servizi svolti ad opera della “Tennis Club SC” e del giornale “LN”. \n",
      "\n",
      "None \n",
      "\n",
      "Questa Commissione Tributaria Regionale accoglie l’appello della E S.r.l. \n",
      "        riconoscendo legittima l’istanza di rimborso avanzata dalla stessa alla competente Agenzia delle Entrate di Lucca. \n",
      "\n",
      "La Commissione Tributaria Regionale per il Friuli - Venezia Giulia — Sezione XI — accoglie l'appello e per l'effetto riforma l’impugnata decisione limitatamente al punto appellato con annullamento dell'avviso di accertamento, \n",
      "\n",
      "In riforma della sentenza appellata, accoglie l’appello e conferma\n",
      "    l’avviso di accertamento impugnato. \n",
      "\n",
      "In riforma della sentenza appellata, accoglie l’appello e conferma l’avviso di accertamento impugnato. \n",
      "\n"
     ]
    }
   ],
   "source": [
    "for decision in decisions[:10]:\n",
    "    print(decision.text, '\\n')"
   ]
  },
  {
   "cell_type": "markdown",
   "id": "8e35caf5",
   "metadata": {},
   "source": [
    "Some elements have multiple links. It is particularly interesting when it happens in decision tags, as each decision-request pair can form a new data sample. Iterative filtering and extraction of multiple links makes it possible to explore the whole \"tree\" of connections between nodes in the document, starting from decision tags and ending wherever it is decided.\n",
    "A minimal set of features would be: request, arguments and claim tags, labeled by the corresponding decision tag, as defined by [Galli et. al, 2022]."
   ]
  },
  {
   "cell_type": "code",
   "execution_count": 9,
   "id": "e9c821aa",
   "metadata": {
    "scrolled": true
   },
   "outputs": [
    {
     "name": "stdout",
     "output_type": "stream",
     "text": [
      "Number of multilinked decisions 12\n"
     ]
    }
   ],
   "source": [
    "multiple_link_decisions = tuple(filter(lambda e: '|' in e.get('O'), decisions))\n",
    "print('Number of multilinked decisions', len(multiple_link_decisions))"
   ]
  },
  {
   "cell_type": "markdown",
   "id": "928d21a2",
   "metadata": {},
   "source": [
    "## Graph tag representation\n",
    "\n",
    "To facilitate the task of composing different feature sets based on how they are linked, each document is flattened into a set of triples, then used to build a graph."
   ]
  },
  {
   "cell_type": "code",
   "execution_count": 10,
   "id": "d19c3538",
   "metadata": {},
   "outputs": [],
   "source": [
    "triples_dfs = [data.build_tag_triples(sample)\n",
    "               for sample in second_instance_samples]"
   ]
  },
  {
   "cell_type": "code",
   "execution_count": 11,
   "id": "08702b2d",
   "metadata": {},
   "outputs": [
    {
     "name": "stdout",
     "output_type": "stream",
     "text": [
      "(8, 3)\n"
     ]
    },
    {
     "data": {
      "text/html": [
       "<div>\n",
       "<style scoped>\n",
       "    .dataframe tbody tr th:only-of-type {\n",
       "        vertical-align: middle;\n",
       "    }\n",
       "\n",
       "    .dataframe tbody tr th {\n",
       "        vertical-align: top;\n",
       "    }\n",
       "\n",
       "    .dataframe thead th {\n",
       "        text-align: right;\n",
       "    }\n",
       "</style>\n",
       "<table border=\"1\" class=\"dataframe\">\n",
       "  <thead>\n",
       "    <tr style=\"text-align: right;\">\n",
       "      <th></th>\n",
       "      <th>source</th>\n",
       "      <th>target</th>\n",
       "      <th>edge</th>\n",
       "    </tr>\n",
       "  </thead>\n",
       "  <tbody>\n",
       "    <tr>\n",
       "      <th>0</th>\n",
       "      <td>Dec2</td>\n",
       "      <td>Find1</td>\n",
       "      <td>D</td>\n",
       "    </tr>\n",
       "    <tr>\n",
       "      <th>1</th>\n",
       "      <td>Find1</td>\n",
       "      <td>Claim1</td>\n",
       "      <td>O</td>\n",
       "    </tr>\n",
       "    <tr>\n",
       "      <th>2</th>\n",
       "      <td>Claim1</td>\n",
       "      <td>Req4</td>\n",
       "      <td>PRO</td>\n",
       "    </tr>\n",
       "    <tr>\n",
       "      <th>3</th>\n",
       "      <td>Dec2</td>\n",
       "      <td>Req4</td>\n",
       "      <td>O</td>\n",
       "    </tr>\n",
       "    <tr>\n",
       "      <th>4</th>\n",
       "      <td>Costdec1</td>\n",
       "      <td>Costfind1</td>\n",
       "      <td>D</td>\n",
       "    </tr>\n",
       "  </tbody>\n",
       "</table>\n",
       "</div>"
      ],
      "text/plain": [
       "     source     target edge\n",
       "0      Dec2      Find1    D\n",
       "1     Find1     Claim1    O\n",
       "2    Claim1       Req4  PRO\n",
       "3      Dec2       Req4    O\n",
       "4  Costdec1  Costfind1    D"
      ]
     },
     "execution_count": 11,
     "metadata": {},
     "output_type": "execute_result"
    }
   ],
   "source": [
    "print(triples_dfs[0].shape)\n",
    "triples_dfs[0].head()"
   ]
  },
  {
   "cell_type": "markdown",
   "id": "81194d13",
   "metadata": {},
   "source": [
    "A rapid check for null values (the builder function comes without warranty)"
   ]
  },
  {
   "cell_type": "code",
   "execution_count": 12,
   "id": "b8e967f5",
   "metadata": {},
   "outputs": [
    {
     "name": "stdout",
     "output_type": "stream",
     "text": [
      "False\n"
     ]
    }
   ],
   "source": [
    "check_null_list = [df.isnull().values.any() for df in triples_dfs]\n",
    "print(any(check_null_list))"
   ]
  },
  {
   "cell_type": "code",
   "execution_count": 13,
   "id": "2c483bf2",
   "metadata": {},
   "outputs": [
    {
     "data": {
      "text/plain": [
       "216"
      ]
     },
     "execution_count": 13,
     "metadata": {},
     "output_type": "execute_result"
    }
   ],
   "source": [
    "graphs = [nx.from_pandas_edgelist(triples, edge_attr='edge',\n",
    "                                  create_using=nx.DiGraph())\n",
    "          for triples in triples_dfs]\n",
    "len(graphs)"
   ]
  },
  {
   "cell_type": "markdown",
   "id": "61d8d73a",
   "metadata": {},
   "source": [
    "Let us show one document in graph form."
   ]
  },
  {
   "cell_type": "code",
   "execution_count": 14,
   "id": "7311384f",
   "metadata": {},
   "outputs": [
    {
     "name": "stdout",
     "output_type": "stream",
     "text": [
      "Connected components ({'Req4', 'Dec2', 'Arg1', 'Claim3', 'Claim1', 'Mot2', 'Req2'}, {'A5', 'A3', 'A8', 'A10', 'A1', 'A4', 'A2', 'A6', 'A7'}, {'Costreq1', 'Costdec1', 'Costfind1'})\n"
     ]
    },
    {
     "data": {
      "image/png": "[encoded data removed]",
      "text/plain": [
       "<Figure size 640x480 with 1 Axes>"
      ]
     },
     "metadata": {},
     "output_type": "display_data"
    }
   ],
   "source": [
    "graph = graphs[2].copy()\n",
    "\n",
    "# Remove initial uninformative components\n",
    "# for component in tuple(nx.connected_components(graph.to_undirected())):\n",
    "#     if len(component) <= 2:\n",
    "#         graph.remove_nodes_from(tuple(component))\n",
    "\n",
    "# Remove finds for a cleaner representation\n",
    "for node in tuple(graph.nodes):\n",
    "    if node.lower().startswith('find'):\n",
    "        graph.remove_node(node)\n",
    "\n",
    "print('Connected components',\n",
    "      tuple(nx.connected_components(graph.to_undirected())))\n",
    "\n",
    "graph_pos = nx.planar_layout(graph)\n",
    "nx.draw(graph, pos=graph_pos, node_size=0, font_size=10, with_labels=True,\n",
    "        arrowsize=7)"
   ]
  },
  {
   "cell_type": "markdown",
   "id": "d2e6accc",
   "metadata": {},
   "source": [
    "Graph representation suggests that related parts of the document (i.e. a request and its associated decision, arguments, etc.) are identified by connected components. The final configuration for the dataset is then built by looking at these components. Ideally, each connected component leads to one sample, i.e. one decision and all the related parts.\n",
    "Multiple requests are split into multiple samples, keeping however the same related tags."
   ]
  },
  {
   "cell_type": "code",
   "execution_count": 15,
   "id": "25ed3038",
   "metadata": {},
   "outputs": [
    {
     "name": "stdout",
     "output_type": "stream",
     "text": [
      "(306, 6)\n"
     ]
    },
    {
     "data": {
      "text/html": [
       "<div>\n",
       "<style scoped>\n",
       "    .dataframe tbody tr th:only-of-type {\n",
       "        vertical-align: middle;\n",
       "    }\n",
       "\n",
       "    .dataframe tbody tr th {\n",
       "        vertical-align: top;\n",
       "    }\n",
       "\n",
       "    .dataframe thead th {\n",
       "        text-align: right;\n",
       "    }\n",
       "</style>\n",
       "<table border=\"1\" class=\"dataframe\">\n",
       "  <thead>\n",
       "    <tr style=\"text-align: right;\">\n",
       "      <th></th>\n",
       "      <th>document_index</th>\n",
       "      <th>fact</th>\n",
       "      <th>req</th>\n",
       "      <th>arg</th>\n",
       "      <th>claim</th>\n",
       "      <th>label</th>\n",
       "    </tr>\n",
       "  </thead>\n",
       "  <tbody>\n",
       "    <tr>\n",
       "      <th>0</th>\n",
       "      <td>0</td>\n",
       "      <td>Da ultimo l’Agenzia delle Entrate, Direzione P...</td>\n",
       "      <td>Da ultimo l’Agenzia delle Entrate, Direzione P...</td>\n",
       "      <td></td>\n",
       "      <td>dando atto della regolarità della domanda di d...</td>\n",
       "      <td>1</td>\n",
       "    </tr>\n",
       "    <tr>\n",
       "      <th>1</th>\n",
       "      <td>1</td>\n",
       "      <td>Per quanto sopra l’Ufficio ha concluso chieden...</td>\n",
       "      <td>Per quanto sopra l’Ufficio ha concluso chieden...</td>\n",
       "      <td></td>\n",
       "      <td></td>\n",
       "      <td>1</td>\n",
       "    </tr>\n",
       "    <tr>\n",
       "      <th>2</th>\n",
       "      <td>2</td>\n",
       "      <td>L'Agenzia ha impugnato la decisione</td>\n",
       "      <td>L'Agenzia ha impugnato la decisione L'Agenzia,...</td>\n",
       "      <td>premettendo che la sanzione nei confronti dell...</td>\n",
       "      <td>La EAI S.p.A. si è costituita in giudizio, dep...</td>\n",
       "      <td>1</td>\n",
       "    </tr>\n",
       "    <tr>\n",
       "      <th>3</th>\n",
       "      <td>2</td>\n",
       "      <td>L'Agenzia, che ha prodotto numerose sentenze d...</td>\n",
       "      <td>L'Agenzia ha impugnato la decisione L'Agenzia,...</td>\n",
       "      <td>premettendo che la sanzione nei confronti dell...</td>\n",
       "      <td>La EAI S.p.A. si è costituita in giudizio, dep...</td>\n",
       "      <td>1</td>\n",
       "    </tr>\n",
       "    <tr>\n",
       "      <th>4</th>\n",
       "      <td>3</td>\n",
       "      <td>ed ha spiegato appello incidentale</td>\n",
       "      <td>ed ha spiegato appello incidentale Avverso la ...</td>\n",
       "      <td>e ritiene che la prova della sottofatturazione...</td>\n",
       "      <td>a) Con il primo motivo dell’appello principale...</td>\n",
       "      <td>0</td>\n",
       "    </tr>\n",
       "  </tbody>\n",
       "</table>\n",
       "</div>"
      ],
      "text/plain": [
       "   document_index                                               fact  \\\n",
       "0               0  Da ultimo l’Agenzia delle Entrate, Direzione P...   \n",
       "1               1  Per quanto sopra l’Ufficio ha concluso chieden...   \n",
       "2               2                L'Agenzia ha impugnato la decisione   \n",
       "3               2  L'Agenzia, che ha prodotto numerose sentenze d...   \n",
       "4               3                 ed ha spiegato appello incidentale   \n",
       "\n",
       "                                                 req  \\\n",
       "0  Da ultimo l’Agenzia delle Entrate, Direzione P...   \n",
       "1  Per quanto sopra l’Ufficio ha concluso chieden...   \n",
       "2  L'Agenzia ha impugnato la decisione L'Agenzia,...   \n",
       "3  L'Agenzia ha impugnato la decisione L'Agenzia,...   \n",
       "4  ed ha spiegato appello incidentale Avverso la ...   \n",
       "\n",
       "                                                 arg  \\\n",
       "0                                                      \n",
       "1                                                      \n",
       "2  premettendo che la sanzione nei confronti dell...   \n",
       "3  premettendo che la sanzione nei confronti dell...   \n",
       "4  e ritiene che la prova della sottofatturazione...   \n",
       "\n",
       "                                               claim  label  \n",
       "0  dando atto della regolarità della domanda di d...      1  \n",
       "1                                                         1  \n",
       "2  La EAI S.p.A. si è costituita in giudizio, dep...      1  \n",
       "3  La EAI S.p.A. si è costituita in giudizio, dep...      1  \n",
       "4  a) Con il primo motivo dell’appello principale...      0  "
      ]
     },
     "execution_count": 15,
     "metadata": {},
     "output_type": "execute_result"
    }
   ],
   "source": [
    "df = data.dataframe_from_graphs(graphs, second_instance_samples)\n",
    "print(df.shape)\n",
    "df.head()"
   ]
  },
  {
   "cell_type": "markdown",
   "id": "72923050",
   "metadata": {},
   "source": [
    "# References\n",
    "\n",
    "\n",
    "[Galli et. al, 2022]: Galli, F., Grundler, G., Fidelangeli, A., Galassi, A., Lagioia, F., Palmieri, E., Ruggeri, F., Sartor, G., & Torroni, P. (2022). Predicting outcomes of Italian VAT DECISIONS1. *Frontiers in Artificial Intelligence and Applications*. https://doi.org/10.3233/faia220465   "
   ]
  }
 ],
 "metadata": {
  "kernelspec": {
   "display_name": "venv",
   "language": "python",
   "name": "python3"
  },
  "language_info": {
   "codemirror_mode": {
    "name": "ipython",
    "version": 3
   },
   "file_extension": ".py",
   "mimetype": "text/x-python",
   "name": "python",
   "nbconvert_exporter": "python",
   "pygments_lexer": "ipython3",
   "version": "3.11.6"
  }
 },
 "nbformat": 4,
 "nbformat_minor": 5
}
