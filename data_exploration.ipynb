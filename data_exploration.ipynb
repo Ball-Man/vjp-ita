{
 "cells": [
  {
   "cell_type": "code",
   "execution_count": 1,
   "id": "38bf0779",
   "metadata": {},
   "outputs": [],
   "source": [
    "import matplotlib.pyplot as plt\n",
    "\n",
    "import vjp.data as data"
   ]
  },
  {
   "cell_type": "code",
   "execution_count": 2,
   "id": "8215e409",
   "metadata": {},
   "outputs": [],
   "source": [
    "second_instance_sampels = data.load_second_instance()"
   ]
  },
  {
   "cell_type": "markdown",
   "id": "eb9ca6fa",
   "metadata": {},
   "source": [
    "Samples are parsed as Python XML element trees. Queries can be done per-element through [the XPath syntax](https://docs.python.org/3/library/xml.etree.elementtree.html#supported-xpath-syntax). `vjp.data.finall` permits querying an entire list. All results from all queries are added to an output list."
   ]
  },
  {
   "cell_type": "code",
   "execution_count": 3,
   "id": "b5cae14e",
   "metadata": {},
   "outputs": [
    {
     "name": "stdout",
     "output_type": "stream",
     "text": [
      "Number of instances 219\n",
      "Number of second instance requests 2\n",
      "Number of second instance decisions 249\n",
      "Of which upheld 110\n",
      "Of which rejected 135\n",
      "Other outcomes 4\n"
     ]
    }
   ],
   "source": [
    "print('Number of instances', len(second_instance_sampels))\n",
    "print('Number of second instance requests', len(data.findall(second_instance_sampels, \".//partreq[@G='2']/req\")))\n",
    "\n",
    "decisions, decision_mapping = data.findall(second_instance_sampels, \".//courtdec[@G='2']/dec\")\n",
    "upheld, _ = data.findall(decisions, \".[@E='1']\")\n",
    "rejected, _ = data.findall(decisions, \".[@E='0']\")\n",
    "print('Number of second instance decisions', len(decisions))\n",
    "print('Of which upheld', len(upheld))\n",
    "print('Of which rejected', len(rejected))\n",
    "print('Other outcomes', len(decisions) - len(upheld) - len(rejected))"
   ]
  },
  {
   "cell_type": "markdown",
   "id": "ebffefae",
   "metadata": {},
   "source": [
    "Some decisions reference multiple requests. A decision that implies the result of multiple requests may be later splitted.\n",
    "\n",
    "Some decisions reference claims. This shall be investigated (do they imply a label for some given requests?). The number is relatively small, they could be ignored. "
   ]
  },
  {
   "cell_type": "code",
   "execution_count": 4,
   "id": "25ab5d87",
   "metadata": {},
   "outputs": [
    {
     "name": "stdout",
     "output_type": "stream",
     "text": [
      "{'Req6', 'Req3', 'Req2|Req3', 'Req2|Req5', 'Req5', 'Claim5', 'Claim2', 'Req1|Req2', 'Req2', 'Req4|Req5', 'Claim3', 'Req1', 'Claim4', 'Claim1', 'Req20', 'Req10', 'Req3|Req4|Req5', 'Req4'}\n",
      "Number of claim objects:  6\n"
     ]
    }
   ],
   "source": [
    "objects = tuple(map(lambda x: x.get('O'), decisions))\n",
    "print(set(objects))\n",
    "print('Number of claim objects: ', len(tuple(filter(lambda s: not s.startswith('Req'), objects))))"
   ]
  },
  {
   "cell_type": "markdown",
   "id": "d3585684",
   "metadata": {},
   "source": [
    "Given the very low amount of different outcomes, the problem will be treated as a binary classification one. Labels are not perfectly balanced."
   ]
  },
  {
   "cell_type": "code",
   "execution_count": 5,
   "id": "86fca7c6",
   "metadata": {},
   "outputs": [
    {
     "data": {
      "text/plain": [
       "(array([110.,   0.,   0., 135.,   0.,   0.,   3.,   0.,   0.,   1.]),\n",
       " array([0. , 0.3, 0.6, 0.9, 1.2, 1.5, 1.8, 2.1, 2.4, 2.7, 3. ]),\n",
       " <BarContainer object of 10 artists>)"
      ]
     },
     "execution_count": 5,
     "metadata": {},
     "output_type": "execute_result"
    },
    {
     "data": {
      "image/png": "[encoded data removed]",
      "text/plain": [
       "<Figure size 640x480 with 1 Axes>"
      ]
     },
     "metadata": {},
     "output_type": "display_data"
    }
   ],
   "source": [
    "plt.hist(tuple(map(lambda x: x.get('E'), decisions)))"
   ]
  },
  {
   "cell_type": "markdown",
   "id": "7706cc6a",
   "metadata": {},
   "source": [
    "Other outcomes can be dropped."
   ]
  },
  {
   "cell_type": "code",
   "execution_count": 6,
   "id": "047d9c8e",
   "metadata": {},
   "outputs": [],
   "source": [
    "decisions = upheld + rejected"
   ]
  },
  {
   "cell_type": "markdown",
   "id": "b13ffb50",
   "metadata": {},
   "source": [
    "Data will need some processing and handling of special cases. Some values can be `None` (empty tags?)."
   ]
  },
  {
   "cell_type": "code",
   "execution_count": 7,
   "id": "a17d643f",
   "metadata": {},
   "outputs": [
    {
     "name": "stdout",
     "output_type": "stream",
     "text": [
      "Accoglie l'appello e, in riforma della sentenza impugnata, rigetta il ricorso \n",
      "    della contribuente  \n",
      "\n",
      "La sezione pronunciando sull’appello proposto dal contribuente e dall'Ufficio avverso la sentenza 63/04/2009 emanata dalla Commissione Tributaria Provinciale de L'Aquila così provvede:\n",
      "\n",
      "\t\tAccoglie parzialmente l’appello del contribuente, limitatamente alla correzione dell'errore materiale, \n",
      "\n",
      "In parziale accoglimento sia dell'appello principale che dell'appello incidentale ed\n",
      "    inconseguente parziale riforma della decisione impugnata, dichiara la legittimità del\n",
      "    recupero a tassazione della somma portata a credito d'imposta; \n",
      "\n",
      "determina in complessivi €23.227,05 i recuperi per l'anno 2004; \n",
      "\n",
      "dichiara la illegittimità dei recuperi effettuati per i\n",
      "    servizi svolti ad opera della “Tennis Club SC” e del giornale “LN”. \n",
      "\n",
      "None \n",
      "\n",
      "Questa Commissione Tributaria Regionale accoglie l’appello della E S.r.l. \n",
      "        riconoscendo legittima l’istanza di rimborso avanzata dalla stessa alla competente Agenzia delle Entrate di Lucca. \n",
      "\n",
      "La Commissione Tributaria Regionale per il Friuli - Venezia Giulia — Sezione XI — accoglie l'appello e per l'effetto riforma l’impugnata decisione limitatamente al punto appellato con annullamento dell'avviso di accertamento, \n",
      "\n",
      "In riforma della sentenza appellata, accoglie l’appello e conferma\n",
      "    l’avviso di accertamento impugnato. \n",
      "\n",
      "In riforma della sentenza appellata, accoglie l’appello e conferma l’avviso di accertamento impugnato. \n",
      "\n"
     ]
    }
   ],
   "source": [
    "for decision in decisions[:10]:\n",
    "    print(decision.text, '\\n')"
   ]
  },
  {
   "cell_type": "code",
   "execution_count": 8,
   "id": "e9c821aa",
   "metadata": {
    "scrolled": true
   },
   "outputs": [],
   "source": [
    "multiple_link_decisions = tuple(filter(lambda e: '|' in e.get('O'), decisions))"
   ]
  },
  {
   "cell_type": "code",
   "execution_count": 9,
   "id": "fbb9c275",
   "metadata": {},
   "outputs": [
    {
     "name": "stdout",
     "output_type": "stream",
     "text": [
      "{'ID': 'Dec2', 'G': '2', 'E': '1', 'O': 'Req2|Req3', 'D': 'Mot1'}\n",
      "['Req2', 'Req3']\n"
     ]
    },
    {
     "data": {
      "text/plain": [
       "[<Element 'req' at 0x7efff5495f30>, <Element 'req' at 0x7efff5495f80>]"
      ]
     },
     "execution_count": 9,
     "metadata": {},
     "output_type": "execute_result"
    }
   ],
   "source": [
    "decision = multiple_link_decisions[0]\n",
    "print(decision.attrib)\n",
    "print(data.extract_link(decision, 'O'))\n",
    "data.extract_link_elements(decision_mapping[decision], decision, 'O')"
   ]
  }
 ],
 "metadata": {
  "kernelspec": {
   "display_name": "VJP",
   "language": "python",
   "name": "vjp"
  },
  "language_info": {
   "codemirror_mode": {
    "name": "ipython",
    "version": 3
   },
   "file_extension": ".py",
   "mimetype": "text/x-python",
   "name": "python",
   "nbconvert_exporter": "python",
   "pygments_lexer": "ipython3",
   "version": "3.10.9"
  }
 },
 "nbformat": 4,
 "nbformat_minor": 5
}
