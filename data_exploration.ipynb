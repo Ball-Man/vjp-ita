{
 "cells": [
  {
   "cell_type": "code",
   "execution_count": 1,
   "id": "38bf0779",
   "metadata": {},
   "outputs": [],
   "source": [
    "import vjp.data as data"
   ]
  },
  {
   "cell_type": "code",
   "execution_count": 2,
   "id": "b961c3b6",
   "metadata": {},
   "outputs": [],
   "source": [
    "second_instance_sampels = data.load_second_instance()"
   ]
  },
  {
   "cell_type": "markdown",
   "id": "d33957ec",
   "metadata": {},
   "source": [
    "Samples are parsed as Python XML element trees. Queries can be done per-element through [the XPath syntax](https://docs.python.org/3/library/xml.etree.elementtree.html#supported-xpath-syntax). `vjp.data.finall` permits querying an entire list. All results from all queries are added to an output list."
   ]
  },
  {
   "cell_type": "code",
   "execution_count": 22,
   "id": "6100241d",
   "metadata": {},
   "outputs": [
    {
     "name": "stdout",
     "output_type": "stream",
     "text": [
      "Number of instances 219\n",
      "Number of second instance requests 480\n",
      "Number of second instance decisions 249\n",
      "Of which upheld 110\n",
      "Of which rejected 135\n",
      "Other outcomes 4\n"
     ]
    }
   ],
   "source": [
    "print('Number of instances', len(second_instance_sampels))\n",
    "print('Number of second instance requests', len(data.findall(second_instance_sampels, \".//partreq[@G='2']/req\")))\n",
    "\n",
    "decisions = data.findall(second_instance_sampels, \".//courtdec[@G='2']/dec\")\n",
    "upheld = data.findall(decisions, \".[@E='1']\")\n",
    "rejected = data.findall(decisions, \".[@E='0']\")\n",
    "print('Number of second instance decisions', len(decisions))\n",
    "print('Of which upheld', len(upheld))\n",
    "print('Of which rejected', len(rejected))\n",
    "print('Other outcomes', len(decisions) - len(upheld) - len(rejected))"
   ]
  },
  {
   "cell_type": "code",
   "execution_count": null,
   "id": "8e9db754",
   "metadata": {},
   "outputs": [],
   "source": []
  }
 ],
 "metadata": {
  "kernelspec": {
   "display_name": "VJP",
   "language": "python",
   "name": "vjp"
  },
  "language_info": {
   "codemirror_mode": {
    "name": "ipython",
    "version": 3
   },
   "file_extension": ".py",
   "mimetype": "text/x-python",
   "name": "python",
   "nbconvert_exporter": "python",
   "pygments_lexer": "ipython3",
   "version": "3.10.9"
  }
 },
 "nbformat": 4,
 "nbformat_minor": 5
}
