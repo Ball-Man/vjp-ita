{
 "cells": [
  {
   "cell_type": "code",
   "execution_count": 1,
   "metadata": {},
   "outputs": [],
   "source": [
    "%load_ext autoreload\n",
    "%autoreload 2\n",
    "\n",
    "import os\n",
    "with open(\"api_key\", 'r') as f:\n",
    "    os.environ['OPENAI_API_KEY'] = f.readline()\n",
    "\n",
    "import xml.etree.ElementTree as ET\n",
    "from functools import partial\n",
    "\n",
    "import pandas as pd\n",
    "import numpy as np\n",
    "from sklearn.metrics import confusion_matrix, classification_report\n",
    "from sklearn.dummy import DummyClassifier\n",
    "\n",
    "from vjp.openai_prompt import Prompt\n",
    "from vjp import data, text"
   ]
  },
  {
   "cell_type": "code",
   "execution_count": 2,
   "metadata": {},
   "outputs": [],
   "source": [
    "def clean_list_et(documents: list[ET.Element]):\n",
    "    for doc in documents:\n",
    "        doc: ET.Element = doc\n",
    "        assert len(list(doc.iter('intro'))) <= 1, doc.attrib\n",
    "\n",
    "    for doc in documents:\n",
    "        doc: ET.Element = doc\n",
    "        parent_map = {c: p for p in doc.iter() for c in p}\n",
    "        intros = list(doc.iter('intro'))\n",
    "        for i in intros:\n",
    "            parent_map[i].remove(i)"
   ]
  },
  {
   "cell_type": "code",
   "execution_count": 3,
   "metadata": {},
   "outputs": [
    {
     "data": {
      "text/html": [
       "<div>\n",
       "<style scoped>\n",
       "    .dataframe tbody tr th:only-of-type {\n",
       "        vertical-align: middle;\n",
       "    }\n",
       "\n",
       "    .dataframe tbody tr th {\n",
       "        vertical-align: top;\n",
       "    }\n",
       "\n",
       "    .dataframe thead th {\n",
       "        text-align: right;\n",
       "    }\n",
       "</style>\n",
       "<table border=\"1\" class=\"dataframe\">\n",
       "  <thead>\n",
       "    <tr style=\"text-align: right;\">\n",
       "      <th></th>\n",
       "      <th>preliminaries</th>\n",
       "      <th>decisions</th>\n",
       "      <th>label</th>\n",
       "    </tr>\n",
       "  </thead>\n",
       "  <tbody>\n",
       "    <tr>\n",
       "      <th>0</th>\n",
       "      <td>Con sentenza in data DD/MM/2017, la Commission...</td>\n",
       "      <td>L'appello è fondato e va accolto.Preliminarmen...</td>\n",
       "      <td>1</td>\n",
       "    </tr>\n",
       "    <tr>\n",
       "      <th>1</th>\n",
       "      <td>Con l’avviso di accertamento n°877010100140 no...</td>\n",
       "      <td>Si premette che già nel PVC la Guardia di Fina...</td>\n",
       "      <td>1</td>\n",
       "    </tr>\n",
       "    <tr>\n",
       "      <th>2</th>\n",
       "      <td>L'Agenzia delle Entrate notificava alla societ...</td>\n",
       "      <td>Osserva questa Commissione, con riguardo al pr...</td>\n",
       "      <td>1</td>\n",
       "    </tr>\n",
       "    <tr>\n",
       "      <th>3</th>\n",
       "      <td>L'Agenzia delle Entrate Ufficio di Piacenza, c...</td>\n",
       "      <td>Osserva questo collegio che dalla lettura degl...</td>\n",
       "      <td>1</td>\n",
       "    </tr>\n",
       "    <tr>\n",
       "      <th>4</th>\n",
       "      <td>Con rituale ricorso il signor LL, quale Ammini...</td>\n",
       "      <td>Questa Commissione rileva che non è controvers...</td>\n",
       "      <td>1</td>\n",
       "    </tr>\n",
       "  </tbody>\n",
       "</table>\n",
       "</div>"
      ],
      "text/plain": [
       "                                       preliminaries  \\\n",
       "0  Con sentenza in data DD/MM/2017, la Commission...   \n",
       "1  Con l’avviso di accertamento n°877010100140 no...   \n",
       "2  L'Agenzia delle Entrate notificava alla societ...   \n",
       "3  L'Agenzia delle Entrate Ufficio di Piacenza, c...   \n",
       "4  Con rituale ricorso il signor LL, quale Ammini...   \n",
       "\n",
       "                                           decisions  label  \n",
       "0  L'appello è fondato e va accolto.Preliminarmen...      1  \n",
       "1  Si premette che già nel PVC la Guardia di Fina...      1  \n",
       "2  Osserva questa Commissione, con riguardo al pr...      1  \n",
       "3  Osserva questo collegio che dalla lettura degl...      1  \n",
       "4  Questa Commissione rileva che non è controvers...      1  "
      ]
     },
     "execution_count": 3,
     "metadata": {},
     "output_type": "execute_result"
    }
   ],
   "source": [
    "upheld, rejected = data.load_second_instance_labeled()\n",
    "clean_list_et(upheld)\n",
    "clean_list_et(rejected)\n",
    "df_all = data.shot_based_dataframe(upheld, rejected)\n",
    "df_all[['preliminaries', 'decisions']] = \\\n",
    "    df_all[['preliminaries', 'decisions']].applymap(\n",
    "        text.shot_normalize_whites_pipeline)\n",
    "df_all.head()"
   ]
  },
  {
   "cell_type": "code",
   "execution_count": 4,
   "metadata": {},
   "outputs": [],
   "source": [
    "n_shot = 1\n",
    "df_all_proc_len = df_all.sort_values(by=\"preliminaries\", key=lambda x: x.str.len())\n",
    "\n",
    "uphold_example = df_all_proc_len.loc[df_all['label'] == 1].head(n_shot)\n",
    "rejected_example = df_all_proc_len.loc[df_all['label'] == 0].head(n_shot)\n",
    "\n",
    "df_train = pd.concat([uphold_example, rejected_example])\n",
    "df = df_all.drop(list(df_train.index[:]))"
   ]
  },
  {
   "cell_type": "code",
   "execution_count": 5,
   "metadata": {},
   "outputs": [
    {
     "data": {
      "text/plain": [
       "((217, 3), (219, 3), (2, 3))"
      ]
     },
     "execution_count": 5,
     "metadata": {},
     "output_type": "execute_result"
    }
   ],
   "source": [
    "df.shape, df_all.shape, df_train.shape"
   ]
  },
  {
   "cell_type": "code",
   "execution_count": 6,
   "metadata": {},
   "outputs": [
    {
     "data": {
      "text/html": [
       "<div>\n",
       "<style scoped>\n",
       "    .dataframe tbody tr th:only-of-type {\n",
       "        vertical-align: middle;\n",
       "    }\n",
       "\n",
       "    .dataframe tbody tr th {\n",
       "        vertical-align: top;\n",
       "    }\n",
       "\n",
       "    .dataframe thead th {\n",
       "        text-align: right;\n",
       "    }\n",
       "</style>\n",
       "<table border=\"1\" class=\"dataframe\">\n",
       "  <thead>\n",
       "    <tr style=\"text-align: right;\">\n",
       "      <th></th>\n",
       "      <th>preliminaries</th>\n",
       "      <th>decisions</th>\n",
       "      <th>label</th>\n",
       "    </tr>\n",
       "  </thead>\n",
       "  <tbody>\n",
       "    <tr>\n",
       "      <th>34</th>\n",
       "      <td>ZG ha proposto ricorso avverso l’atto di conte...</td>\n",
       "      <td>MOTIVI DELLA DECISIONEL’appellante censura l’o...</td>\n",
       "      <td>1</td>\n",
       "    </tr>\n",
       "    <tr>\n",
       "      <th>191</th>\n",
       "      <td>L'agenzia delle Entrate di XXX propone appello...</td>\n",
       "      <td>MOTIVI DELLA DECISIONE\\nLa Commissione, letti ...</td>\n",
       "      <td>0</td>\n",
       "    </tr>\n",
       "  </tbody>\n",
       "</table>\n",
       "</div>"
      ],
      "text/plain": [
       "                                         preliminaries  \\\n",
       "34   ZG ha proposto ricorso avverso l’atto di conte...   \n",
       "191  L'agenzia delle Entrate di XXX propone appello...   \n",
       "\n",
       "                                             decisions  label  \n",
       "34   MOTIVI DELLA DECISIONEL’appellante censura l’o...      1  \n",
       "191  MOTIVI DELLA DECISIONE\\nLa Commissione, letti ...      0  "
      ]
     },
     "execution_count": 6,
     "metadata": {},
     "output_type": "execute_result"
    }
   ],
   "source": [
    "df_train"
   ]
  },
  {
   "attachments": {},
   "cell_type": "markdown",
   "metadata": {},
   "source": [
    "## Baselines"
   ]
  },
  {
   "cell_type": "code",
   "execution_count": 7,
   "metadata": {},
   "outputs": [],
   "source": [
    "majority_baseline = DummyClassifier()\n",
    "random_baseline = DummyClassifier(strategy='uniform', random_state=42)\n",
    "baseline_X = np.expand_dims(df.preliminaries.to_numpy(), 1)\n",
    "baseline_y = df.label.to_numpy()"
   ]
  },
  {
   "cell_type": "code",
   "execution_count": 8,
   "metadata": {},
   "outputs": [
    {
     "name": "stdout",
     "output_type": "stream",
     "text": [
      "              precision    recall  f1-score   support\n",
      "\n",
      "           0       0.59      1.00      0.74       127\n",
      "           1       0.00      0.00      0.00        90\n",
      "\n",
      "    accuracy                           0.59       217\n",
      "   macro avg       0.29      0.50      0.37       217\n",
      "weighted avg       0.34      0.59      0.43       217\n",
      "\n"
     ]
    },
    {
     "name": "stderr",
     "output_type": "stream",
     "text": [
      "c:\\Users\\micfae\\AppData\\Local\\miniconda3\\envs\\vjp\\lib\\site-packages\\sklearn\\metrics\\_classification.py:1344: UndefinedMetricWarning: Precision and F-score are ill-defined and being set to 0.0 in labels with no predicted samples. Use `zero_division` parameter to control this behavior.\n",
      "  _warn_prf(average, modifier, msg_start, len(result))\n",
      "c:\\Users\\micfae\\AppData\\Local\\miniconda3\\envs\\vjp\\lib\\site-packages\\sklearn\\metrics\\_classification.py:1344: UndefinedMetricWarning: Precision and F-score are ill-defined and being set to 0.0 in labels with no predicted samples. Use `zero_division` parameter to control this behavior.\n",
      "  _warn_prf(average, modifier, msg_start, len(result))\n",
      "c:\\Users\\micfae\\AppData\\Local\\miniconda3\\envs\\vjp\\lib\\site-packages\\sklearn\\metrics\\_classification.py:1344: UndefinedMetricWarning: Precision and F-score are ill-defined and being set to 0.0 in labels with no predicted samples. Use `zero_division` parameter to control this behavior.\n",
      "  _warn_prf(average, modifier, msg_start, len(result))\n"
     ]
    }
   ],
   "source": [
    "# Fit and predict on the same data, it doesn't really matter here\n",
    "majority_baseline.fit(baseline_X,\n",
    "                      baseline_y)\n",
    "majority_preds = majority_baseline.predict(baseline_X)\n",
    "print(classification_report(baseline_y, majority_preds))"
   ]
  },
  {
   "cell_type": "code",
   "execution_count": 9,
   "metadata": {},
   "outputs": [
    {
     "name": "stdout",
     "output_type": "stream",
     "text": [
      "              precision    recall  f1-score   support\n",
      "\n",
      "           0       0.61      0.54      0.57       127\n",
      "           1       0.44      0.52      0.48        90\n",
      "\n",
      "    accuracy                           0.53       217\n",
      "   macro avg       0.53      0.53      0.53       217\n",
      "weighted avg       0.54      0.53      0.53       217\n",
      "\n"
     ]
    }
   ],
   "source": [
    "random_baseline.fit(baseline_X,\n",
    "                      baseline_y)\n",
    "random_preds = random_baseline.predict(baseline_X)\n",
    "print(classification_report(baseline_y, random_preds))"
   ]
  },
  {
   "attachments": {},
   "cell_type": "markdown",
   "metadata": {},
   "source": [
    "## Prompts"
   ]
  },
  {
   "cell_type": "code",
   "execution_count": 10,
   "metadata": {},
   "outputs": [],
   "source": [
    "verbalizer_ita = 'accolto', 'respinto'\n",
    "template_ita = \"Sei un sistema automatico per l'inferenza di decisioni giudiziarie in Italia. Hai in input un estratto del verbale d'appello. Rispondi con \\\"{}\\\" se è ritieni che l'appello debba essere accolto, con \\\"{}\\\" altrimenti. Rispondi con una sola parola. Il verbale:\"\n",
    "\n",
    "verbalizer_eng = 'upheld', 'rejected'\n",
    "template_eng = \"You are an automated system for inferring judicial decisions in Italy. You are given an excerpt from the appellate protocol as input. Respond with \\\"{}\\\" if you believe the appeal should be granted, or with \\\"{}\\\" otherwise. Respond with a single word. The excerpt:\""
   ]
  },
  {
   "cell_type": "code",
   "execution_count": 11,
   "metadata": {},
   "outputs": [],
   "source": [
    "prompt_ita = Prompt(template_ita, verbalizer_ita, few_shot_data=df_train.to_dict('records'))\n",
    "prompt_eng = Prompt(template_eng, verbalizer_eng, few_shot_data=df_train.to_dict('records'))"
   ]
  },
  {
   "cell_type": "code",
   "execution_count": 12,
   "metadata": {},
   "outputs": [],
   "source": [
    "def compute_new_column(prompt, row, with_mot):\n",
    "    message = prompt.create_prompt(row, with_mot)\n",
    "    response = prompt.send_prompt(message)\n",
    "    try:\n",
    "        msg = prompt.interpret_response(response)\n",
    "        return msg\n",
    "    except:\n",
    "        print(prompt.get_nice_prompt(message))\n",
    "        print(response)\n",
    "        return None"
   ]
  },
  {
   "attachments": {},
   "cell_type": "markdown",
   "metadata": {},
   "source": [
    "### Italian prompt"
   ]
  },
  {
   "cell_type": "code",
   "execution_count": 13,
   "metadata": {},
   "outputs": [
    {
     "name": "stdout",
     "output_type": "stream",
     "text": [
      "WARNING: Context size for message too long(6144)\n",
      "Bad gateway. {\"error\":{\"code\":502,\"message\":\"Bad gateway.\",\"param\":null,\"type\":\"cf_bad_gateway\"}} 502 {'error': {'code': 502, 'message': 'Bad gateway.', 'param': None, 'type': 'cf_bad_gateway'}} {'Date': 'Thu, 29 Jun 2023 13:03:45 GMT', 'Content-Type': 'application/json', 'Content-Length': '84', 'Connection': 'keep-alive', 'X-Frame-Options': 'SAMEORIGIN', 'Referrer-Policy': 'same-origin', 'Cache-Control': 'private, max-age=0, no-store, no-cache, must-revalidate, post-check=0, pre-check=0', 'Expires': 'Thu, 01 Jan 1970 00:00:01 GMT', 'Server': 'cloudflare', 'CF-RAY': '7dee577f1e8f0e59-MXP', 'alt-svc': 'h3=\":443\"; ma=86400'}\n",
      "WARNING: Context size for message too long(14521)\n",
      "WARNING: Context size for message too long(4938)\n",
      "WARNING: Context size for message too long(4261)\n"
     ]
    }
   ],
   "source": [
    "compute_new_column_no_mot = partial(compute_new_column, prompt_ita,\n",
    "                                    with_mot=False)\n",
    "# compute_new_column_mot = partial(compute_new_column, prompt_ita,\n",
    "#                                  with_mot=True)\n",
    "\n",
    "df['pred_label_no_mot'] = df.apply(compute_new_column_no_mot, axis=1)\n",
    "# df['pred_label_mot'] = df.apply(compute_new_column_mot, axis=1)"
   ]
  },
  {
   "cell_type": "code",
   "execution_count": 15,
   "metadata": {},
   "outputs": [],
   "source": [
    "import pickle\n",
    "with open('backup_cache_no_mot_correct_1_italian.pickle', 'wb') as f:\n",
    "    pickle.dump(prompt_ita.cache, f)"
   ]
  },
  {
   "cell_type": "code",
   "execution_count": 20,
   "metadata": {},
   "outputs": [],
   "source": [
    "df.to_pickle(\"backup_dataframe_no_mot_correct_1shot.pickle\")"
   ]
  },
  {
   "cell_type": "code",
   "execution_count": 17,
   "metadata": {},
   "outputs": [
    {
     "data": {
      "text/plain": [
       "array([[<Axes: title={'center': 'pred_label_no_mot'}>]], dtype=object)"
      ]
     },
     "execution_count": 17,
     "metadata": {},
     "output_type": "execute_result"
    },
    {
     "data": {
      "image/png": "[encoded data removed]",
      "text/plain": [
       "<Figure size 640x480 with 1 Axes>"
      ]
     },
     "metadata": {},
     "output_type": "display_data"
    }
   ],
   "source": [
    "# df[['pred_label_no_mot', 'pred_label_mot']].hist()\n",
    "df[['pred_label_no_mot']].hist()"
   ]
  },
  {
   "cell_type": "code",
   "execution_count": 18,
   "metadata": {},
   "outputs": [
    {
     "name": "stderr",
     "output_type": "stream",
     "text": [
      "C:\\Users\\micfae\\AppData\\Local\\Temp\\ipykernel_4504\\851119368.py:6: SettingWithCopyWarning: \n",
      "A value is trying to be set on a copy of a slice from a DataFrame\n",
      "\n",
      "See the caveats in the documentation: https://pandas.pydata.org/pandas-docs/stable/user_guide/indexing.html#returning-a-view-versus-a-copy\n",
      "  df.pred_label_no_mot[no_mot_nan_labels] = 1 - df.label[\n"
     ]
    }
   ],
   "source": [
    "# Substitute NaN values always with the wrong label (treat them like\n",
    "# missclassification).\n",
    "no_mot_nan_labels = df.pred_label_no_mot.isna()\n",
    "# mot_nan_labels = df.pred_label_mot.isna()\n",
    "\n",
    "df.pred_label_no_mot[no_mot_nan_labels] = 1 - df.label[\n",
    "    no_mot_nan_labels]\n",
    "# df.pred_label_mot[mot_nan_labels] = 1 - df.label[mot_nan_labels]\n",
    "\n",
    "# df.pred_label_mot = df.pred_label_mot.astype(np.int64)\n",
    "df.pred_label_no_mot = df.pred_label_no_mot.astype(np.int64)"
   ]
  },
  {
   "cell_type": "code",
   "execution_count": 38,
   "metadata": {},
   "outputs": [
    {
     "name": "stdout",
     "output_type": "stream",
     "text": [
      "              precision    recall  f1-score   support\n",
      "\n",
      "           0       0.88      0.06      0.10       127\n",
      "           1       0.43      0.99      0.60        90\n",
      "\n",
      "    accuracy                           0.44       217\n",
      "   macro avg       0.65      0.52      0.35       217\n",
      "weighted avg       0.69      0.44      0.31       217\n",
      "\n",
      "[[  7 120]\n",
      " [  1  89]]\n"
     ]
    }
   ],
   "source": [
    "print(classification_report(df['label'], df['pred_label_no_mot']))\n",
    "print(confusion_matrix(df['label'], df['pred_label_no_mot']))"
   ]
  },
  {
   "cell_type": "code",
   "execution_count": 41,
   "metadata": {},
   "outputs": [],
   "source": [
    "# print(classification_report(df['label'], df['pred_label_mot']))\n",
    "# print(confusion_matrix(df['label'], df['pred_label_mot']))"
   ]
  },
  {
   "cell_type": "code",
   "execution_count": null,
   "metadata": {},
   "outputs": [],
   "source": [
    "for _, row in df.iterrows():\n",
    "    message = prompt_ita.create_prompt(row)\n",
    "    print(prompt_ita.get_nice_prompt(message))\n",
    "    \n",
    "    true = verbalizer_ita[1 - row['label']]\n",
    "    pred = verbalizer_ita[1 - row['pred_label_no_mot']]\n",
    "\n",
    "    print(f\"True: {true} - Predicted: {pred}\")"
   ]
  },
  {
   "attachments": {},
   "cell_type": "markdown",
   "metadata": {},
   "source": [
    "### English prompt"
   ]
  },
  {
   "cell_type": "code",
   "execution_count": 23,
   "metadata": {},
   "outputs": [
    {
     "name": "stdout",
     "output_type": "stream",
     "text": [
      "The server is overloaded or not ready yet.\n",
      "WARNING: Context size for message too long(6117)\n",
      "The server is overloaded or not ready yet.\n",
      "WARNING: Context size for message too long(14494)\n",
      "WARNING: Context size for message too long(4911)\n",
      "WARNING: Context size for message too long(4234)\n",
      "The server is overloaded or not ready yet.\n",
      "Bad gateway. {\"error\":{\"code\":502,\"message\":\"Bad gateway.\",\"param\":null,\"type\":\"cf_bad_gateway\"}} 502 {'error': {'code': 502, 'message': 'Bad gateway.', 'param': None, 'type': 'cf_bad_gateway'}} {'Date': 'Thu, 29 Jun 2023 13:28:12 GMT', 'Content-Type': 'application/json', 'Content-Length': '84', 'Connection': 'keep-alive', 'X-Frame-Options': 'SAMEORIGIN', 'Referrer-Policy': 'same-origin', 'Cache-Control': 'private, max-age=0, no-store, no-cache, must-revalidate, post-check=0, pre-check=0', 'Expires': 'Thu, 01 Jan 1970 00:00:01 GMT', 'Server': 'cloudflare', 'CF-RAY': '7dee7b525aa00e59-MXP', 'alt-svc': 'h3=\":443\"; ma=86400'}\n"
     ]
    }
   ],
   "source": [
    "compute_new_column_no_mot = partial(compute_new_column, prompt_eng,\n",
    "                                    with_mot=False)\n",
    "# compute_new_column_mot = partial(compute_new_column, prompt_eng,\n",
    "#                                  with_mot=True)\n",
    "\n",
    "df['pred_label_no_mot'] = df.apply(compute_new_column_no_mot, axis=1)\n",
    "# df['pred_label_mot'] = df.apply(compute_new_column_mot, axis=1)"
   ]
  },
  {
   "cell_type": "code",
   "execution_count": 27,
   "metadata": {},
   "outputs": [],
   "source": [
    "import pickle\n",
    "with open('backup_cache_no_mot_correct_1_english.pickle', 'wb') as f:\n",
    "    pickle.dump(prompt_eng.cache, f)"
   ]
  },
  {
   "cell_type": "code",
   "execution_count": 28,
   "metadata": {},
   "outputs": [],
   "source": [
    "df.to_pickle('backup_dataframe_no_mot_correct_1shot_eng.pickle')"
   ]
  },
  {
   "cell_type": "code",
   "execution_count": 24,
   "metadata": {},
   "outputs": [
    {
     "data": {
      "text/plain": [
       "array([[<Axes: title={'center': 'pred_label_no_mot'}>]], dtype=object)"
      ]
     },
     "execution_count": 24,
     "metadata": {},
     "output_type": "execute_result"
    },
    {
     "data": {
      "image/png": "[encoded data removed]",
      "text/plain": [
       "<Figure size 640x480 with 1 Axes>"
      ]
     },
     "metadata": {},
     "output_type": "display_data"
    }
   ],
   "source": [
    "df[['pred_label_no_mot']].hist()"
   ]
  },
  {
   "cell_type": "code",
   "execution_count": 40,
   "metadata": {},
   "outputs": [],
   "source": [
    "# df[['pred_label_no_mot', 'pred_label_mot']].hist()"
   ]
  },
  {
   "cell_type": "code",
   "execution_count": 32,
   "metadata": {},
   "outputs": [
    {
     "name": "stderr",
     "output_type": "stream",
     "text": [
      "C:\\Users\\micfae\\AppData\\Local\\Temp\\ipykernel_4504\\851119368.py:6: SettingWithCopyWarning: \n",
      "A value is trying to be set on a copy of a slice from a DataFrame\n",
      "\n",
      "See the caveats in the documentation: https://pandas.pydata.org/pandas-docs/stable/user_guide/indexing.html#returning-a-view-versus-a-copy\n",
      "  df.pred_label_no_mot[no_mot_nan_labels] = 1 - df.label[\n"
     ]
    }
   ],
   "source": [
    "# Substitute NaN values always with the wrong label (treat them like\n",
    "# missclassification).\n",
    "no_mot_nan_labels = df.pred_label_no_mot.isna()\n",
    "# mot_nan_labels = df.pred_label_mot.isna()\n",
    "\n",
    "df.pred_label_no_mot[no_mot_nan_labels] = 1 - df.label[\n",
    "    no_mot_nan_labels]\n",
    "# df.pred_label_mot[mot_nan_labels] = 1 - df.label[mot_nan_labels]\n",
    "\n",
    "# df.pred_label_mot = df.pred_label_mot.astype(np.int64)\n",
    "df.pred_label_no_mot = df.pred_label_no_mot.astype(np.int64)"
   ]
  },
  {
   "cell_type": "code",
   "execution_count": 35,
   "metadata": {},
   "outputs": [
    {
     "name": "stdout",
     "output_type": "stream",
     "text": [
      "              precision    recall  f1-score   support\n",
      "\n",
      "           0       0.68      0.15      0.25       127\n",
      "           1       0.43      0.90      0.58        90\n",
      "\n",
      "    accuracy                           0.46       217\n",
      "   macro avg       0.55      0.52      0.41       217\n",
      "weighted avg       0.57      0.46      0.38       217\n",
      "\n",
      "[[ 19 108]\n",
      " [  9  81]]\n"
     ]
    }
   ],
   "source": [
    "print(classification_report(df['label'], df['pred_label_no_mot']))\n",
    "print(confusion_matrix(df['label'], df['pred_label_no_mot']))"
   ]
  },
  {
   "cell_type": "code",
   "execution_count": 39,
   "metadata": {},
   "outputs": [],
   "source": [
    "# print(classification_report(df['label'], df['pred_label_mot']))\n",
    "# print(confusion_matrix(df['label'], df['pred_label_mot']))"
   ]
  },
  {
   "cell_type": "code",
   "execution_count": null,
   "metadata": {},
   "outputs": [],
   "source": [
    "for _, row in df.iterrows():\n",
    "    message = prompt_eng.create_prompt(row)\n",
    "    print(prompt_eng.get_nice_prompt(message))\n",
    "    \n",
    "    true = verbalizer_eng[1 - row['label']]\n",
    "    pred = verbalizer_eng[1 - row['pred_label_no_mot']]\n",
    "\n",
    "    print(f\"True: {true} - Predicted: {pred}\")"
   ]
  }
 ],
 "metadata": {
  "kernelspec": {
   "display_name": "vjp",
   "language": "python",
   "name": "python3"
  },
  "language_info": {
   "codemirror_mode": {
    "name": "ipython",
    "version": 3
   },
   "file_extension": ".py",
   "mimetype": "text/x-python",
   "name": "python",
   "nbconvert_exporter": "python",
   "pygments_lexer": "ipython3",
   "version": "3.10.9"
  },
  "orig_nbformat": 4
 },
 "nbformat": 4,
 "nbformat_minor": 2
}
