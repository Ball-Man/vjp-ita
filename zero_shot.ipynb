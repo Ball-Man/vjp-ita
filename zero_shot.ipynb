{
 "cells": [
  {
   "cell_type": "code",
   "execution_count": null,
   "metadata": {},
   "outputs": [],
   "source": [
    "%load_ext autoreload\n",
    "%autoreload 2\n",
    "\n",
    "import os\n",
    "os.environ['OPENAI_API_KEY'] = 'XXX'\n",
    "\n",
    "\n",
    "import pandas as pd\n",
    "from vjp.openai_prompt import Prompt\n",
    "import vjp.data as data\n",
    "import xml.etree.ElementTree as ET\n",
    "from functools import partial"
   ]
  },
  {
   "cell_type": "code",
   "execution_count": null,
   "metadata": {},
   "outputs": [],
   "source": [
    "def clean_list_et(documents: list[ET.Element]):\n",
    "    for doc in documents:\n",
    "        doc: ET.Element = doc\n",
    "        assert len(list(doc.iter('intro'))) <= 1, doc.attrib\n",
    "\n",
    "   \n",
    "    for doc in documents:\n",
    "        doc: ET.Element = doc\n",
    "        parent_map = {c: p for p in doc.iter() for c in p}\n",
    "        intros = list(doc.iter('intro'))\n",
    "        for i in intros:\n",
    "            parent_map[i].remove(i)"
   ]
  },
  {
   "cell_type": "code",
   "execution_count": null,
   "metadata": {},
   "outputs": [],
   "source": [
    "upheld, rejected = data.load_second_instance_labeled()\n",
    "clean_list_et(upheld)\n",
    "clean_list_et(rejected)\n",
    "df = data.shot_based_dataframe(upheld, rejected)"
   ]
  },
  {
   "cell_type": "code",
   "execution_count": null,
   "metadata": {},
   "outputs": [],
   "source": [
    "prompt = Prompt()"
   ]
  },
  {
   "cell_type": "code",
   "execution_count": null,
   "metadata": {},
   "outputs": [],
   "source": [
    "def compute_new_column(row, with_mot):\n",
    "    message = prompt.create_prompt(row, with_mot)\n",
    "    response = prompt.send_prompt(message)\n",
    "    try:\n",
    "        msg = prompt.interpret_response(response)\n",
    "        return msg\n",
    "    except:\n",
    "        print(prompt.get_nice_prompt(message))\n",
    "        print(response)\n",
    "        \n",
    "\n",
    "compute_new_column_no_mot = partial(compute_new_column, with_mot=False)\n",
    "compute_new_column_mot = partial(compute_new_column, with_mot=True)\n",
    "\n",
    "df['pred_label_no_mot'] = df.apply(compute_new_column_no_mot, axis=1)\n",
    "#df['pred_label_mot'] = df.apply(compute_new_column_mot, axis=1)"
   ]
  },
  {
   "cell_type": "code",
   "execution_count": null,
   "metadata": {},
   "outputs": [],
   "source": [
    "df.to_pickle(\"dataframe_no_mot_2\")"
   ]
  },
  {
   "cell_type": "code",
   "execution_count": null,
   "metadata": {},
   "outputs": [],
   "source": [
    "import pickle\n",
    "\n",
    "with open(\"backup_cache_no_mot_2\", 'wb') as f:\n",
    "    pickle.dump(prompt.cache, f)"
   ]
  },
  {
   "cell_type": "code",
   "execution_count": null,
   "metadata": {},
   "outputs": [],
   "source": [
    "from sklearn.metrics import confusion_matrix\n",
    "\n",
    "print(confusion_matrix(df['label'], df['pred_label_no_mot']))"
   ]
  },
  {
   "cell_type": "code",
   "execution_count": null,
   "metadata": {},
   "outputs": [],
   "source": [
    "df"
   ]
  },
  {
   "cell_type": "code",
   "execution_count": null,
   "metadata": {},
   "outputs": [],
   "source": [
    "for _, row in df.iterrows():\n",
    "    message = prompt.create_prompt(row)\n",
    "    print(prompt.get_nice_prompt(message))\n",
    "    \n",
    "    if row['label'] == 1:\n",
    "        true = \"uphold\"\n",
    "    else:\n",
    "        true = \"reject\"\n",
    "\n",
    "    if row['pred_label_no_mot'] == 1:\n",
    "        pred = \"uphold\"\n",
    "    else:\n",
    "        pred = \"reject\"\n",
    "\n",
    "    print(f\"True: {true} - Predicted: {pred}\")"
   ]
  }
 ],
 "metadata": {
  "kernelspec": {
   "display_name": "vjp",
   "language": "python",
   "name": "python3"
  },
  "language_info": {
   "codemirror_mode": {
    "name": "ipython",
    "version": 3
   },
   "file_extension": ".py",
   "mimetype": "text/x-python",
   "name": "python",
   "nbconvert_exporter": "python",
   "pygments_lexer": "ipython3",
   "version": "3.10.9"
  },
  "orig_nbformat": 4
 },
 "nbformat": 4,
 "nbformat_minor": 2
}
