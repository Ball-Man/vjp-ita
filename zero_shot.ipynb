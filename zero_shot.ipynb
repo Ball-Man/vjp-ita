{
 "cells": [
  {
   "cell_type": "code",
   "execution_count": 1,
   "metadata": {},
   "outputs": [],
   "source": [
    "%load_ext autoreload\n",
    "%autoreload 2\n",
    "\n",
    "import os\n",
    "os.environ['OPENAI_API_KEY'] = 'XXX'\n",
    "\n",
    "import xml.etree.ElementTree as ET\n",
    "from functools import partial\n",
    "\n",
    "import pandas as pd\n",
    "import numpy as np\n",
    "from sklearn.metrics import confusion_matrix, classification_report\n",
    "from sklearn.dummy import DummyClassifier\n",
    "\n",
    "from vjp.openai_prompt import Prompt\n",
    "from vjp import data, text"
   ]
  },
  {
   "cell_type": "code",
   "execution_count": 2,
   "metadata": {},
   "outputs": [],
   "source": [
    "def clean_list_et(documents: list[ET.Element]):\n",
    "    for doc in documents:\n",
    "        doc: ET.Element = doc\n",
    "        assert len(list(doc.iter('intro'))) <= 1, doc.attrib\n",
    "\n",
    "    for doc in documents:\n",
    "        doc: ET.Element = doc\n",
    "        parent_map = {c: p for p in doc.iter() for c in p}\n",
    "        intros = list(doc.iter('intro'))\n",
    "        for i in intros:\n",
    "            parent_map[i].remove(i)"
   ]
  },
  {
   "cell_type": "code",
   "execution_count": 3,
   "metadata": {},
   "outputs": [
    {
     "data": {
      "text/html": [
       "<div>\n",
       "<style scoped>\n",
       "    .dataframe tbody tr th:only-of-type {\n",
       "        vertical-align: middle;\n",
       "    }\n",
       "\n",
       "    .dataframe tbody tr th {\n",
       "        vertical-align: top;\n",
       "    }\n",
       "\n",
       "    .dataframe thead th {\n",
       "        text-align: right;\n",
       "    }\n",
       "</style>\n",
       "<table border=\"1\" class=\"dataframe\">\n",
       "  <thead>\n",
       "    <tr style=\"text-align: right;\">\n",
       "      <th></th>\n",
       "      <th>preliminaries</th>\n",
       "      <th>decisions</th>\n",
       "      <th>label</th>\n",
       "    </tr>\n",
       "  </thead>\n",
       "  <tbody>\n",
       "    <tr>\n",
       "      <th>0</th>\n",
       "      <td>Con sentenza in data DD/MM/2017, la Commission...</td>\n",
       "      <td>L'appello è fondato e va accolto.Preliminarmen...</td>\n",
       "      <td>1</td>\n",
       "    </tr>\n",
       "    <tr>\n",
       "      <th>1</th>\n",
       "      <td>Con l’avviso di accertamento n°877010100140 no...</td>\n",
       "      <td>Si premette che già nel PVC la Guardia di Fina...</td>\n",
       "      <td>1</td>\n",
       "    </tr>\n",
       "    <tr>\n",
       "      <th>2</th>\n",
       "      <td>L'Agenzia delle Entrate notificava alla societ...</td>\n",
       "      <td>Osserva questa Commissione, con riguardo al pr...</td>\n",
       "      <td>1</td>\n",
       "    </tr>\n",
       "    <tr>\n",
       "      <th>3</th>\n",
       "      <td>L'Agenzia delle Entrate Ufficio di Piacenza, c...</td>\n",
       "      <td>Osserva questo collegio che dalla lettura degl...</td>\n",
       "      <td>1</td>\n",
       "    </tr>\n",
       "    <tr>\n",
       "      <th>4</th>\n",
       "      <td>Con rituale ricorso il signor LL, quale Ammini...</td>\n",
       "      <td>Questa Commissione rileva che non è controvers...</td>\n",
       "      <td>1</td>\n",
       "    </tr>\n",
       "  </tbody>\n",
       "</table>\n",
       "</div>"
      ],
      "text/plain": [
       "                                       preliminaries  \\\n",
       "0  Con sentenza in data DD/MM/2017, la Commission...   \n",
       "1  Con l’avviso di accertamento n°877010100140 no...   \n",
       "2  L'Agenzia delle Entrate notificava alla societ...   \n",
       "3  L'Agenzia delle Entrate Ufficio di Piacenza, c...   \n",
       "4  Con rituale ricorso il signor LL, quale Ammini...   \n",
       "\n",
       "                                           decisions  label  \n",
       "0  L'appello è fondato e va accolto.Preliminarmen...      1  \n",
       "1  Si premette che già nel PVC la Guardia di Fina...      1  \n",
       "2  Osserva questa Commissione, con riguardo al pr...      1  \n",
       "3  Osserva questo collegio che dalla lettura degl...      1  \n",
       "4  Questa Commissione rileva che non è controvers...      1  "
      ]
     },
     "execution_count": 3,
     "metadata": {},
     "output_type": "execute_result"
    }
   ],
   "source": [
    "upheld, rejected = data.load_second_instance_labeled()\n",
    "clean_list_et(upheld)\n",
    "clean_list_et(rejected)\n",
    "df = data.shot_based_dataframe(upheld, rejected)\n",
    "df[['preliminaries', 'decisions']] = \\\n",
    "    df[['preliminaries', 'decisions']].applymap(\n",
    "        text.shot_normalize_whites_pipeline)\n",
    "df.head()"
   ]
  },
  {
   "attachments": {},
   "cell_type": "markdown",
   "metadata": {},
   "source": [
    "## Baselines"
   ]
  },
  {
   "cell_type": "code",
   "execution_count": 16,
   "metadata": {},
   "outputs": [],
   "source": [
    "majority_baseline = DummyClassifier()\n",
    "random_baseline = DummyClassifier(strategy='uniform', random_state=42)\n",
    "baseline_X = np.expand_dims(df.preliminaries.to_numpy(), 1)\n",
    "baseline_y = df.label.to_numpy()"
   ]
  },
  {
   "cell_type": "code",
   "execution_count": 17,
   "metadata": {},
   "outputs": [
    {
     "name": "stdout",
     "output_type": "stream",
     "text": [
      "              precision    recall  f1-score   support\n",
      "\n",
      "           0       0.58      1.00      0.74       128\n",
      "           1       0.00      0.00      0.00        91\n",
      "\n",
      "    accuracy                           0.58       219\n",
      "   macro avg       0.29      0.50      0.37       219\n",
      "weighted avg       0.34      0.58      0.43       219\n",
      "\n"
     ]
    },
    {
     "name": "stderr",
     "output_type": "stream",
     "text": [
      "c:\\Users\\Ball\\Desktop\\Code\\Python\\vjp-ita\\venv\\lib\\site-packages\\sklearn\\metrics\\_classification.py:1344: UndefinedMetricWarning: Precision and F-score are ill-defined and being set to 0.0 in labels with no predicted samples. Use `zero_division` parameter to control this behavior.\n",
      "  _warn_prf(average, modifier, msg_start, len(result))\n",
      "c:\\Users\\Ball\\Desktop\\Code\\Python\\vjp-ita\\venv\\lib\\site-packages\\sklearn\\metrics\\_classification.py:1344: UndefinedMetricWarning: Precision and F-score are ill-defined and being set to 0.0 in labels with no predicted samples. Use `zero_division` parameter to control this behavior.\n",
      "  _warn_prf(average, modifier, msg_start, len(result))\n",
      "c:\\Users\\Ball\\Desktop\\Code\\Python\\vjp-ita\\venv\\lib\\site-packages\\sklearn\\metrics\\_classification.py:1344: UndefinedMetricWarning: Precision and F-score are ill-defined and being set to 0.0 in labels with no predicted samples. Use `zero_division` parameter to control this behavior.\n",
      "  _warn_prf(average, modifier, msg_start, len(result))\n"
     ]
    }
   ],
   "source": [
    "# Fit and predict on the same data, it doesn't really matter here\n",
    "majority_baseline.fit(baseline_X,\n",
    "                      baseline_y)\n",
    "majority_preds = majority_baseline.predict(baseline_X)\n",
    "print(classification_report(baseline_y, majority_preds))"
   ]
  },
  {
   "cell_type": "code",
   "execution_count": 18,
   "metadata": {},
   "outputs": [
    {
     "name": "stdout",
     "output_type": "stream",
     "text": [
      "              precision    recall  f1-score   support\n",
      "\n",
      "           0       0.62      0.54      0.58       128\n",
      "           1       0.45      0.53      0.48        91\n",
      "\n",
      "    accuracy                           0.53       219\n",
      "   macro avg       0.53      0.53      0.53       219\n",
      "weighted avg       0.55      0.53      0.54       219\n",
      "\n"
     ]
    }
   ],
   "source": [
    "random_baseline.fit(baseline_X,\n",
    "                      baseline_y)\n",
    "random_preds = random_baseline.predict(baseline_X)\n",
    "print(classification_report(baseline_y, random_preds))"
   ]
  },
  {
   "attachments": {},
   "cell_type": "markdown",
   "metadata": {},
   "source": [
    "## Prompts"
   ]
  },
  {
   "cell_type": "code",
   "execution_count": 4,
   "metadata": {},
   "outputs": [],
   "source": [
    "verbalizer_ita = 'accolto', 'respinto'\n",
    "template_ita = \"Sei un sistema automatico per l'inferenza di decisioni giudiziarie in Italia. Hai in input un estratto del verbale d'appello. Rispondi con \\\"{}\\\" se è ritieni che l'appello debba essere accolto, con \\\"{}\\\" altrimenti. Rispondi con una sola parola. Il verbale:\"\n",
    "\n",
    "verbalizer_eng = 'upheld', 'rejected'\n",
    "template_eng = \"You are an automated system for inferring judicial decisions in Italy. You are given an excerpt from the appellate protocol as input. Respond with \\\"{}\\\" if you believe the appeal should be granted, or with \\\"{}\\\" otherwise. Respond with a single word. The excerpt:\""
   ]
  },
  {
   "cell_type": "code",
   "execution_count": 5,
   "metadata": {},
   "outputs": [],
   "source": [
    "prompt_ita = Prompt(template_ita, verbalizer_ita)\n",
    "prompt_eng = Prompt(template_eng, verbalizer_eng)"
   ]
  },
  {
   "cell_type": "code",
   "execution_count": null,
   "metadata": {},
   "outputs": [],
   "source": [
    "def compute_new_column(prompt, row, with_mot):\n",
    "    message = prompt.create_prompt(row, with_mot)\n",
    "    response = prompt.send_prompt(message)\n",
    "    try:\n",
    "        msg = prompt.interpret_response(response)\n",
    "        return msg\n",
    "    except:\n",
    "        print(prompt.get_nice_prompt(message))\n",
    "        print(response)\n",
    "        return None"
   ]
  },
  {
   "attachments": {},
   "cell_type": "markdown",
   "metadata": {},
   "source": [
    "### Italian prompt"
   ]
  },
  {
   "cell_type": "code",
   "execution_count": 6,
   "metadata": {},
   "outputs": [
    {
     "name": "stdout",
     "output_type": "stream",
     "text": [
      "WARNING: Context size for message too long(5787)\n",
      "The server is overloaded or not ready yet.\n",
      "###system\n",
      "Sei un sistema automatico per l'inferenza di decisioni giudiziarie in Italia. Hai in input un estratto del verbale d'appello. Rispondi con \"accolto\" se è ritieni che l'appello debba essere accolto, con \"respinto\" altrimenti. Rispondi con una sola parola. Il verbale:\n",
      "###user\n",
      "###START OF USER TEXT\n",
      "- L’Agenzia delle Entrate, Direzione Provinciale di Sondrio, ha proposto appello chiedendo la riforma della sentenza con conseguente conferma dell’avviso di accertamento.\n",
      "Il contribuente, costituitosi nel grado, ha chiesto il rigetto dell’impugnazione formulando contestuale istanza di sospensione del processo al fine della definizione del contenzioso ai sensi dell’art. 6 del D.L. 119/2018.\n",
      "- In data DD.MM.2019 il contribuente ha depositato copia della domanda di definizione agevolata ex art. 6\n",
      "comma 10 del citato D.L. 119 (convertito dalla legge 17.12.2018 n. 136) presentata il DD.MM.2019 e copia\n",
      "dei modello F24 relativo al pagamento della prima rata.\n",
      "- Da ultimo l’Agenzia delle Entrate, Direzione Provinciale di Sondrio, ha fatto pervenire richiesta di\n",
      "estinzione del giudizio per cessata materia del contendere datata DD.MM.2020 dando atto della regolarità della\n",
      "domanda di definizione agevolata presentata dal contribuente e dell’avvenuto pagamento integrale di\n",
      "quanto dovuto per la definizione.\n",
      "- All’esito dell’odierna udienza reputa questa Commissione Regionale che debba dichiararsi l’estinzione\n",
      "del giudizio per cessazione della materia del contendere ex art. 46 D.Lgs. 546/1992 essendo stata la\n",
      "controversia definita ai sensi dell’art. 6 del D.L. 119/2018 conv. dalla legge 17.12.2018 n. 136.\n",
      "Invero il contribuente ha provveduto agli adempimenti a suo carico e l’Agenzia delle Entrate ha\n",
      "riconosciuto la regolarità dell’istanza di definizione agevolata e del pagamento integrale di quanto dovuto\n",
      "per la definizione.\n",
      "Le spese processuali del grado vanno integralmente compensate.\n",
      "P. Q. M.\n",
      "La Commissione dichiara l’estinzione del giudizio per cessazione della materia del contendere.\n",
      "Spese compensate.\n",
      "Così deciso in Milano in data DD.MM.2020\n",
      "Il giudice rel.\n",
      "giu2\n",
      "Il Presidente\n",
      "giu1\n",
      "###END OF USER TEXT\n",
      "\n",
      "estinzione\n",
      "Request timed out: HTTPSConnectionPool(host='api.openai.com', port=443): Read timed out. (read timeout=600)\n",
      "WARNING: Context size for message too long(14164)\n",
      "WARNING: Context size for message too long(4581)\n",
      "WARNING: Context size for message too long(5086)\n",
      "WARNING: Context size for message too long(5080)\n",
      "WARNING: Context size for message too long(5049)\n",
      "WARNING: Context size for message too long(4702)\n",
      "WARNING: Context size for message too long(5439)\n",
      "WARNING: Context size for message too long(14064)\n",
      "###system\n",
      "Sei un sistema automatico per l'inferenza di decisioni giudiziarie in Italia. Hai in input un estratto del verbale d'appello. Rispondi con \"accolto\" se è ritieni che l'appello debba essere accolto, con \"respinto\" altrimenti. Rispondi con una sola parola. Il verbale:\n",
      "###user\n",
      "###START OF USER TEXT\n",
      "Si dà atto della trattazione in pubblica udienza; il relatore espone i fatti e le questioni controverse, successivamente il Presidente ammette le parti alla discussione.\n",
      "In data DD MM 2014 I S.r.l. riceveva 1 quattro avvisi di accertamento in frontespizio, notificati dall’ Agenzia delle entrate - Direzione provinciale di Como, relativi ad Ires, Irap ed Iva - con sanzioni ed interessi - per gli anni di imposta 2009 2010 e 2011 e 2012. Contro tali atti impositivi I S.r.l. presentava ricorsi in Commissione tributaria provinciale di Como,che venivano tutti respinti;>tale sentenza veniva successivamente gravata in appello.Nelle more del processo, in data DD MM 2016, prot. S/13.200, veniva depositato accordo conciliativo di definizione totale della controversia.Richieste delle partiCome da accordo conciliativo, ambedue le parti chiedono una dichiarazione di estinzione del giudizio per cessazione della materia del contendere; con compensazione fra le parti delle spese di lite.Terminata la discussione nella odierna pubblica udienza, visti gli atti di causa ed esaminati i documenti prodotti dalle parti, il collegio si ritira in camera di consiglio e pone la causa in decisione.Motivi in fatto e dirittoL’accordo di conciliazione fuori udienza, ex articolo 48, d.lgs.546/1992, è perfezionato con la sottoscrizione di tutte le parti in causa e costituisce titolo per la riscossione delle somme dovute all'ente impositore; pertanto, è venuta meno la materia del contendere.P.Q.M.La Commissione Tributaria Regionale di Milano, sezione 32, definitivamente pronunciando,l’estinzione del giudizio; nulla sulle spese.Così deciso in Milano, nella camera di consiglio del DD MM 2016.Il Presiderite estensore dott. giu1\n",
      "###END OF USER TEXT\n",
      "\n",
      "estinzione\n",
      "WARNING: Context size for message too long(5098)\n",
      "WARNING: Context size for message too long(9933)\n",
      "WARNING: Context size for message too long(4979)\n",
      "The server is overloaded or not ready yet.\n",
      "WARNING: Context size for message too long(7128)\n",
      "WARNING: Context size for message too long(4421)\n",
      "WARNING: Context size for message too long(4693)\n",
      "WARNING: Context size for message too long(4789)\n",
      "The server is overloaded or not ready yet.\n",
      "###system\n",
      "Sei un sistema automatico per l'inferenza di decisioni giudiziarie in Italia. Hai in input un estratto del verbale d'appello. Rispondi con \"accolto\" se è ritieni che l'appello debba essere accolto, con \"respinto\" altrimenti. Rispondi con una sola parola. Il verbale:\n",
      "###user\n",
      "###START OF USER TEXT\n",
      "Deduzioni in fatto dell’appellante.\n",
      "Si trattava di richieste avanzate a seguito di verifiche fiscali svolte con riguardo all'attività svolta dalle GI nell’ambito degli accordi di coassicurazione intercorsi con la societa RMA, con la società La PA S.p.a., nonché con le società UA S.p.a., IA S.p.a., ACS S.A., AA S.p.a. Si trattava di operazioni relative a contratti di coassicurazione, per le quali le commissioni per la prevista delega non erano state assoggettate ad IVA.\n",
      "Richieste della parte appellante\n",
      "L'appellante ha chiesto «in accoglimento del presente appello e a conferma della legittimità degli atti\n",
      "impugnati, riformare l'impugnata pronuncia, con condanna della controparte alle spese di lite di entrambi i\n",
      "gradi di giudizio». Chiede pubblica udienza. Indica il valore del contributo unificato in € € 779.898.\n",
      "In data anteriore alla pubblica udienza fissata, l'Agenzia delle Entrate ha depositato richiesta di\n",
      "cessazione della materia del contendere con compensazione delle spese, precisando che la\n",
      "contribuente “ha presentato distinte domande di definizione agevolata delle liti ex art. 6 e 7 del D.L. 23\n",
      "ottobre n. 119”.\n",
      "4 Posizione della parte appellata e richieste\n",
      "La parte appellata ha presentato controdeduzioni con le quali ha richiesto il rigetto dell'appello.\n",
      "Sulla successiva istanza di cessazione della materia del contendere nulla ha dedotto.\n",
      "5 Posizione delle parti all'udienza pubblica\n",
      "Nessuno è presente all'udienza.\n",
      "6 Decisione CTR\n",
      "In assenza di deduzioni dell’appellante, assente alla pubblica udienza, \n",
      "può essere dichiarata la cessazione della materia del contendere \n",
      "con compensazione delle spese, come richiesto dall’appellata.\n",
      "P.T.M.\n",
      "La Commissione Tributaria Regionale del Lazio, Sezione VI, dichiara cessata la materia del\n",
      "contendere. \n",
      "Spese compensate.\n",
      "Così deciso in Roma, Camera di Consiglio del DD MM 2019\n",
      "Il relatore estensore\n",
      "giu2\n",
      "Il Presidente\n",
      "giu1L'Agenzia delle Entrate appella la Sentenza n. 5256/34/18 emessa dalla Sez. 34 della Commissione Tributaria Provinciale di Roma dep. il DD/MM/2018, che ha accolto il ricorso della contribuente avverso avviso di accertamento TJB0301000158 anno 2010 Atto di contestazione TJBCO0100068 anno 2010 (mancata emissione di fatture per operazioni imponibili e l'omessa regolarizzazione di fatture per operazioni, per un imponibile complessivo pari ad € 1.335.289).\n",
      "###END OF USER TEXT\n",
      "\n",
      "cessazione\n",
      "###system\n",
      "Sei un sistema automatico per l'inferenza di decisioni giudiziarie in Italia. Hai in input un estratto del verbale d'appello. Rispondi con \"accolto\" se è ritieni che l'appello debba essere accolto, con \"respinto\" altrimenti. Rispondi con una sola parola. Il verbale:\n",
      "###user\n",
      "###START OF USER TEXT\n",
      "- L’Agenzia delle Entrate, Direzione Provinciale di Sondrio, ha proposto appello chiedendo la riforma della sentenza con conseguente conferma dell’avviso di accertamento.\n",
      "Il contribuente, costituitosi nel grado, ha chiesto il rigetto dell’impugnazione formulando contestuale istanza di sospensione del processo al fine della definizione del contenzioso ai sensi dell’art. 6 del D.L. 119/2018.\n",
      "- In data DD.MM.2019 il contribuente ha depositato copia della domanda di definizione agevolata ex art. 6\n",
      "comma 10 del citato D.L. 119 (convertito dalla legge 17.12.2018 n. 136) presentata il DD.MM.2019 e copia\n",
      "dei modello F24 relativo al pagamento della prima rata.\n",
      "- Da ultimo l’Agenzia delle Entrate, Direzione Provinciale di Sondrio, ha fatto pervenire richiesta di\n",
      "estinzione del giudizio per cessata materia del contendere datata DD.MM.2020 dando atto della regolarità della\n",
      "domanda di definizione agevolata presentata dal contribuente e dell’avvenuto pagamento integrale di\n",
      "quanto dovuto per la definizione.\n",
      "- All’esito dell’odierna udienza reputa questa Commissione Regionale che debba dichiararsi l’estinzione\n",
      "del giudizio per cessazione della materia del contendere ex art. 46 D.Lgs. 546/1992 essendo stata la\n",
      "controversia definita ai sensi dell’art. 6 del D.L. 119/2018 conv. dalla legge 17.12.2018 n. 136.\n",
      "Invero il contribuente ha provveduto agli adempimenti a suo carico e l’Agenzia delle Entrate ha\n",
      "riconosciuto la regolarità dell’istanza di definizione agevolata e del pagamento integrale di quanto dovuto\n",
      "per la definizione.\n",
      "Le spese processuali del grado vanno integralmente compensate.\n",
      "P. Q. M.\n",
      "La Commissione dichiara l’estinzione del giudizio per cessazione della materia del contendere.\n",
      "Spese compensate.\n",
      "Così deciso in Milano in data DD.MM.2020\n",
      "Il giudice rel.\n",
      "giu2\n",
      "Il Presidente\n",
      "giu1Con sentenza n. 83/2/18 del DD.MM.2018 la Commissione Tributaria Provinciale di Sondrio ha accolto in parte il ricorso proposto da MF contro avviso di accertamento T9Y010200482/2017 relativo ad IRPEF, IRAP ed IVA per l’anno 2012.\n",
      "###END OF USER TEXT\n",
      "\n",
      "estinzione\n",
      "WARNING: Context size for message too long(4349)\n",
      "WARNING: Context size for message too long(5394)\n",
      "WARNING: Context size for message too long(7853)\n",
      "WARNING: Context size for message too long(8106)\n",
      "WARNING: Context size for message too long(7842)\n",
      "WARNING: Context size for message too long(6542)\n",
      "WARNING: Context size for message too long(16151)\n",
      "WARNING: Context size for message too long(5380)\n",
      "WARNING: Context size for message too long(5130)\n",
      "WARNING: Context size for message too long(4929)\n",
      "WARNING: Context size for message too long(5349)\n",
      "WARNING: Context size for message too long(4420)\n",
      "WARNING: Context size for message too long(9396)\n",
      "WARNING: Context size for message too long(4295)\n",
      "WARNING: Context size for message too long(4292)\n",
      "WARNING: Context size for message too long(4284)\n",
      "WARNING: Context size for message too long(4289)\n",
      "WARNING: Context size for message too long(4097)\n",
      "WARNING: Context size for message too long(9117)\n",
      "WARNING: Context size for message too long(7641)\n"
     ]
    }
   ],
   "source": [
    "compute_new_column_no_mot = partial(compute_new_column, prompt_ita,\n",
    "                                    with_mot=False)\n",
    "compute_new_column_mot = partial(compute_new_column, prompt_ita,\n",
    "                                 with_mot=True)\n",
    "\n",
    "df['pred_label_no_mot'] = df.apply(compute_new_column_no_mot, axis=1)\n",
    "df['pred_label_mot'] = df.apply(compute_new_column_mot, axis=1)"
   ]
  },
  {
   "cell_type": "code",
   "execution_count": 16,
   "metadata": {},
   "outputs": [
    {
     "data": {
      "text/plain": [
       "array([[<Axes: title={'center': 'pred_label_no_mot'}>,\n",
       "        <Axes: title={'center': 'pred_label_mot'}>]], dtype=object)"
      ]
     },
     "execution_count": 16,
     "metadata": {},
     "output_type": "execute_result"
    },
    {
     "data": {
      "image/png": "[encoded data removed]",
      "text/plain": [
       "<Figure size 640x480 with 2 Axes>"
      ]
     },
     "metadata": {},
     "output_type": "display_data"
    }
   ],
   "source": [
    "df[['pred_label_no_mot', 'pred_label_mot']].hist()"
   ]
  },
  {
   "cell_type": "code",
   "execution_count": 37,
   "metadata": {},
   "outputs": [
    {
     "name": "stderr",
     "output_type": "stream",
     "text": [
      "C:\\Users\\Ball\\AppData\\Local\\Temp\\ipykernel_14344\\3225591042.py:4: SettingWithCopyWarning: \n",
      "A value is trying to be set on a copy of a slice from a DataFrame\n",
      "\n",
      "See the caveats in the documentation: https://pandas.pydata.org/pandas-docs/stable/user_guide/indexing.html#returning-a-view-versus-a-copy\n",
      "  df.pred_label_no_mot[no_mot_nan_labels] = 1 - df.label[\n",
      "C:\\Users\\Ball\\AppData\\Local\\Temp\\ipykernel_14344\\3225591042.py:6: SettingWithCopyWarning: \n",
      "A value is trying to be set on a copy of a slice from a DataFrame\n",
      "\n",
      "See the caveats in the documentation: https://pandas.pydata.org/pandas-docs/stable/user_guide/indexing.html#returning-a-view-versus-a-copy\n",
      "  df.pred_label_mot[mot_nan_labels] = 1 - df.label[mot_nan_labels]\n"
     ]
    }
   ],
   "source": [
    "# Substitute NaN values always with the wrong label (treat them like\n",
    "# missclassification).\n",
    "no_mot_nan_labels = df.pred_label_no_mot.isna()\n",
    "mot_nan_labels = df.pred_label_mot.isna()\n",
    "\n",
    "df.pred_label_no_mot[no_mot_nan_labels] = 1 - df.label[\n",
    "    no_mot_nan_labels]\n",
    "df.pred_label_mot[mot_nan_labels] = 1 - df.label[mot_nan_labels]\n",
    "\n",
    "df.pred_label_mot = df.pred_label_mot.astype(np.int64)\n",
    "df.pred_label_no_mot = df.pred_label_no_mot.astype(np.int64)"
   ]
  },
  {
   "cell_type": "code",
   "execution_count": 45,
   "metadata": {},
   "outputs": [
    {
     "name": "stdout",
     "output_type": "stream",
     "text": [
      "              precision    recall  f1-score   support\n",
      "\n",
      "           0       0.58      0.91      0.71       128\n",
      "           1       0.39      0.08      0.13        91\n",
      "\n",
      "    accuracy                           0.57       219\n",
      "   macro avg       0.49      0.50      0.42       219\n",
      "weighted avg       0.50      0.57      0.47       219\n",
      "\n",
      "[[117  11]\n",
      " [ 84   7]]\n"
     ]
    }
   ],
   "source": [
    "print(classification_report(df['label'], df['pred_label_no_mot']))\n",
    "print(confusion_matrix(df['label'], df['pred_label_no_mot']))"
   ]
  },
  {
   "cell_type": "code",
   "execution_count": 47,
   "metadata": {},
   "outputs": [
    {
     "name": "stdout",
     "output_type": "stream",
     "text": [
      "              precision    recall  f1-score   support\n",
      "\n",
      "           0       0.66      0.85      0.74       128\n",
      "           1       0.64      0.37      0.47        91\n",
      "\n",
      "    accuracy                           0.65       219\n",
      "   macro avg       0.65      0.61      0.61       219\n",
      "weighted avg       0.65      0.65      0.63       219\n",
      "\n",
      "[[109  19]\n",
      " [ 57  34]]\n"
     ]
    }
   ],
   "source": [
    "print(classification_report(df['label'], df['pred_label_mot']))\n",
    "print(confusion_matrix(df['label'], df['pred_label_mot']))"
   ]
  },
  {
   "cell_type": "code",
   "execution_count": null,
   "metadata": {},
   "outputs": [],
   "source": [
    "for _, row in df.iterrows():\n",
    "    message = prompt.create_prompt(row)\n",
    "    print(prompt.get_nice_prompt(message))\n",
    "    \n",
    "    true = verbalizer_ita[1 - row['label']]\n",
    "    pred = verbalizer_ita[1 - row['pred_label_no_mot']]\n",
    "\n",
    "    print(f\"True: {true} - Predicted: {pred}\")"
   ]
  },
  {
   "attachments": {},
   "cell_type": "markdown",
   "metadata": {},
   "source": [
    "### English prompt"
   ]
  },
  {
   "cell_type": "code",
   "execution_count": null,
   "metadata": {},
   "outputs": [
    {
     "name": "stdout",
     "output_type": "stream",
     "text": [
      "You exceeded your current quota, please check your plan and billing details.\n",
      "WARNING: Context size for message too long(6070)\n",
      "WARNING: Context size for message too long(14197)\n",
      "WARNING: Context size for message too long(4821)\n",
      "WARNING: Context size for message too long(5302)\n",
      "WARNING: Context size for message too long(5359)\n",
      "WARNING: Context size for message too long(5307)\n",
      "WARNING: Context size for message too long(4916)\n",
      "WARNING: Context size for message too long(5666)\n",
      "WARNING: Context size for message too long(4176)\n",
      "WARNING: Context size for message too long(14085)\n",
      "WARNING: Context size for message too long(5344)\n",
      "WARNING: Context size for message too long(10216)\n",
      "WARNING: Context size for message too long(5387)\n",
      "WARNING: Context size for message too long(7705)\n",
      "WARNING: Context size for message too long(4795)\n",
      "WARNING: Context size for message too long(5245)\n",
      "WARNING: Context size for message too long(4145)\n",
      "WARNING: Context size for message too long(4820)\n",
      "The server is overloaded or not ready yet.\n",
      "WARNING: Context size for message too long(4266)\n",
      "The server is overloaded or not ready yet.\n",
      "WARNING: Context size for message too long(4552)\n",
      "WARNING: Context size for message too long(5667)\n",
      "WARNING: Context size for message too long(8147)\n",
      "WARNING: Context size for message too long(8758)\n",
      "WARNING: Context size for message too long(8154)\n",
      "WARNING: Context size for message too long(6814)\n",
      "WARNING: Context size for message too long(16184)\n",
      "WARNING: Context size for message too long(5605)\n",
      "WARNING: Context size for message too long(5397)\n",
      "WARNING: Context size for message too long(4120)\n",
      "WARNING: Context size for message too long(5191)\n",
      "WARNING: Context size for message too long(5589)\n",
      "WARNING: Context size for message too long(4273)\n",
      "WARNING: Context size for message too long(4692)\n",
      "WARNING: Context size for message too long(9612)\n",
      "WARNING: Context size for message too long(4140)\n",
      "WARNING: Context size for message too long(4504)\n",
      "WARNING: Context size for message too long(4504)\n",
      "WARNING: Context size for message too long(4507)\n",
      "WARNING: Context size for message too long(4499)\n",
      "WARNING: Context size for message too long(4452)\n",
      "WARNING: Context size for message too long(9146)\n",
      "WARNING: Context size for message too long(7896)\n"
     ]
    }
   ],
   "source": [
    "compute_new_column_no_mot = partial(compute_new_column, prompt_eng\n",
    "                                    with_mot=False)\n",
    "compute_new_column_mot = partial(compute_new_column, prompt_eng,\n",
    "                                 with_mot=True)\n",
    "\n",
    "df['pred_label_no_mot'] = df.apply(compute_new_column_no_mot, axis=1)\n",
    "df['pred_label_mot'] = df.apply(compute_new_column_mot, axis=1)"
   ]
  },
  {
   "cell_type": "code",
   "execution_count": null,
   "metadata": {},
   "outputs": [
    {
     "data": {
      "text/plain": [
       "array([[<Axes: title={'center': 'pred_label_no_mot'}>,\n",
       "        <Axes: title={'center': 'pred_label_mot'}>]], dtype=object)"
      ]
     },
     "metadata": {},
     "output_type": "display_data"
    },
    {
     "data": {
      "image/png": "[encoded data removed]",
      "text/plain": [
       "<Figure size 640x480 with 2 Axes>"
      ]
     },
     "metadata": {},
     "output_type": "display_data"
    }
   ],
   "source": [
    "df[['pred_label_no_mot', 'pred_label_mot']].hist()"
   ]
  },
  {
   "cell_type": "code",
   "execution_count": null,
   "metadata": {},
   "outputs": [
    {
     "name": "stderr",
     "output_type": "stream",
     "text": [
      "C:\\Users\\Ball\\AppData\\Local\\Temp\\ipykernel_4412\\325979723.py:6: SettingWithCopyWarning: \n",
      "A value is trying to be set on a copy of a slice from a DataFrame\n",
      "\n",
      "See the caveats in the documentation: https://pandas.pydata.org/pandas-docs/stable/user_guide/indexing.html#returning-a-view-versus-a-copy\n",
      "  df.pred_label_no_mot[no_mot_nan_labels] = 1 - df.label[\n",
      "C:\\Users\\Ball\\AppData\\Local\\Temp\\ipykernel_4412\\325979723.py:8: SettingWithCopyWarning: \n",
      "A value is trying to be set on a copy of a slice from a DataFrame\n",
      "\n",
      "See the caveats in the documentation: https://pandas.pydata.org/pandas-docs/stable/user_guide/indexing.html#returning-a-view-versus-a-copy\n",
      "  df.pred_label_mot[mot_nan_labels] = 1 - df.label[mot_nan_labels]\n"
     ]
    }
   ],
   "source": [
    "# Substitute NaN values always with the wrong label (treat them like\n",
    "# missclassification).\n",
    "no_mot_nan_labels = df.pred_label_no_mot.isna()\n",
    "mot_nan_labels = df.pred_label_mot.isna()\n",
    "\n",
    "df.pred_label_no_mot[no_mot_nan_labels] = 1 - df.label[\n",
    "    no_mot_nan_labels]\n",
    "df.pred_label_mot[mot_nan_labels] = 1 - df.label[mot_nan_labels]\n",
    "\n",
    "df.pred_label_mot = df.pred_label_mot.astype(np.int64)\n",
    "df.pred_label_no_mot = df.pred_label_no_mot.astype(np.int64)"
   ]
  },
  {
   "cell_type": "code",
   "execution_count": null,
   "metadata": {},
   "outputs": [
    {
     "name": "stdout",
     "output_type": "stream",
     "text": [
      "              precision    recall  f1-score   support\n",
      "\n",
      "           0       0.61      0.45      0.52       128\n",
      "           1       0.44      0.59      0.50        91\n",
      "\n",
      "    accuracy                           0.51       219\n",
      "   macro avg       0.52      0.52      0.51       219\n",
      "weighted avg       0.54      0.51      0.51       219\n",
      "\n",
      "[[58 70]\n",
      " [37 54]]\n"
     ]
    }
   ],
   "source": [
    "print(classification_report(df['label'], df['pred_label_no_mot']))\n",
    "print(confusion_matrix(df['label'], df['pred_label_no_mot']))"
   ]
  },
  {
   "cell_type": "code",
   "execution_count": null,
   "metadata": {},
   "outputs": [
    {
     "name": "stdout",
     "output_type": "stream",
     "text": [
      "              precision    recall  f1-score   support\n",
      "\n",
      "           0       0.72      0.57      0.63       128\n",
      "           1       0.53      0.68      0.60        91\n",
      "\n",
      "    accuracy                           0.62       219\n",
      "   macro avg       0.62      0.63      0.62       219\n",
      "weighted avg       0.64      0.62      0.62       219\n",
      "\n",
      "[[73 55]\n",
      " [29 62]]\n"
     ]
    }
   ],
   "source": [
    "print(classification_report(df['label'], df['pred_label_mot']))\n",
    "print(confusion_matrix(df['label'], df['pred_label_mot']))"
   ]
  },
  {
   "cell_type": "code",
   "execution_count": null,
   "metadata": {},
   "outputs": [],
   "source": [
    "for _, row in df.iterrows():\n",
    "    message = prompt.create_prompt(row)\n",
    "    print(prompt.get_nice_prompt(message))\n",
    "    \n",
    "    true = verbalizer_eng[1 - row['label']]\n",
    "    pred = verbalizer_eng[1 - row['pred_label_no_mot']]\n",
    "\n",
    "    print(f\"True: {true} - Predicted: {pred}\")"
   ]
  }
 ],
 "metadata": {
  "kernelspec": {
   "display_name": "vjp",
   "language": "python",
   "name": "python3"
  },
  "language_info": {
   "codemirror_mode": {
    "name": "ipython",
    "version": 3
   },
   "file_extension": ".py",
   "mimetype": "text/x-python",
   "name": "python",
   "nbconvert_exporter": "python",
   "pygments_lexer": "ipython3",
   "version": "3.10.9"
  },
  "orig_nbformat": 4
 },
 "nbformat": 4,
 "nbformat_minor": 2
}
