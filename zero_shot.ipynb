{
 "cells": [
  {
   "cell_type": "code",
   "execution_count": null,
   "metadata": {},
   "outputs": [],
   "source": [
    "%load_ext autoreload\n",
    "%autoreload 2\n",
    "\n",
    "import os\n",
    "import pandas as pd\n",
    "import vjp.preprocess as preprocess\n",
    "from vjp.zero_shot import OpenAiClassifier\n",
    "from sklearn.metrics import confusion_matrix, ConfusionMatrixDisplay"
   ]
  },
  {
   "cell_type": "code",
   "execution_count": null,
   "metadata": {},
   "outputs": [],
   "source": [
    "DF_FILENAME = 'connected_components.parquet'\n",
    "if os.path.exists(DF_FILENAME):\n",
    "    print(f'Reading from {DF_FILENAME}...')\n",
    "    df = pd.read_parquet(DF_FILENAME)\n",
    "else:           # Generate on the go\n",
    "    print('File not found, generating dataframe...')\n",
    "    namespace = preprocess.Namespace()\n",
    "    namespace.connected_component_tags = ('req', 'arg', 'claim', 'mot', 'dec')\n",
    "    namespace.use_child_text_tag_names = ('mot', 'dec')\n",
    "    namespace.level = preprocess.PreprocessingLevels.CONNECTED_COMPONENTS\n",
    "    df = preprocess.preprocess(namespace)\n",
    "\n",
    "df.head()"
   ]
  },
  {
   "cell_type": "code",
   "execution_count": null,
   "metadata": {},
   "outputs": [],
   "source": [
    "inputs = [\n",
    "    ['fact', 'req', 'arg', 'claim'],\n",
    "    ['fact', 'req', 'arg', 'claim', 'mot'],\n",
    "    ['fact', 'req', 'arg', 'claim', 'dec'],\n",
    "    ['fact', 'req', 'arg', 'claim', 'mot', 'dec']\n",
    "]\n",
    "api_key = os.environ[\"OPENAI_API_KEY\"]\n",
    "print(f\"API KEY: {api_key}\")\n",
    "results = [dict() for _ in inputs]\n",
    "for features, result in zip(inputs, results):\n",
    "    zero_shot_classifier = OpenAiClassifier(api_key, features=features)\n",
    "    predicted = zero_shot_classifier.predict(df.to_dict('records'))\n",
    "    cm = confusion_matrix(df['label'].tolist(), predicted)\n",
    "\n",
    "    result['tp'] = cm[0][0]\n",
    "    result['fp'] = cm[0][1]\n",
    "    result['tn'] = cm[1][1]\n",
    "    result['fn'] = cm[1][0]\n",
    "\n",
    "    print(result)"
   ]
  },
  {
   "cell_type": "code",
   "execution_count": null,
   "metadata": {},
   "outputs": [],
   "source": [
    "results"
   ]
  },
  {
   "cell_type": "code",
   "execution_count": null,
   "metadata": {},
   "outputs": [],
   "source": [
    "cm = confusion_matrix([1,0,0,1], [1,0,0,0])\n",
    "print(cm)\n",
    "disp = ConfusionMatrixDisplay(confusion_matrix=cm).plot()"
   ]
  },
  {
   "cell_type": "code",
   "execution_count": null,
   "metadata": {},
   "outputs": [],
   "source": []
  }
 ],
 "metadata": {
  "kernelspec": {
   "display_name": "vjp",
   "language": "python",
   "name": "python3"
  },
  "language_info": {
   "codemirror_mode": {
    "name": "ipython",
    "version": 3
   },
   "file_extension": ".py",
   "mimetype": "text/x-python",
   "name": "python",
   "nbconvert_exporter": "python",
   "pygments_lexer": "ipython3",
   "version": "3.10.9"
  },
  "orig_nbformat": 4
 },
 "nbformat": 4,
 "nbformat_minor": 2
}
