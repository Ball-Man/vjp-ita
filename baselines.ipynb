{
 "cells": [
  {
   "cell_type": "code",
   "execution_count": null,
   "id": "52d74d80",
   "metadata": {},
   "outputs": [],
   "source": [
    "import os.path\n",
    "\n",
    "import pandas as pd\n",
    "\n",
    "import vjp.preprocess as preprocess"
   ]
  },
  {
   "cell_type": "markdown",
   "id": "fadce0b3",
   "metadata": {},
   "source": [
    "Retrieve a preprocessed dataframe using the pipeline defined by `data_exploration.ipynb`."
   ]
  },
  {
   "cell_type": "code",
   "execution_count": null,
   "id": "9103a42e",
   "metadata": {},
   "outputs": [],
   "source": [
    "# Load from file if exists (e.g. pregenerated via preprocess CLI)\n",
    "DF_FILENAME = 'connected_components.parquet'\n",
    "if os.path.exists(DF_FILENAME):\n",
    "    print(f'Reading from {DF_FILENAME}...')\n",
    "    df = pd.read_parquet(DF_FILENAME)\n",
    "else:           # Generate on the go\n",
    "    print('File not found, generating dataframe...')\n",
    "    namespace = preprocess.Namespace()\n",
    "    namespace.connected_component_tags = ('req', 'arg', 'claim', 'mot', 'dec')\n",
    "    namespace.level = preprocess.PreprocessingLevels.CONNECTED_COMPONENTS\n",
    "    df = preprocess.preprocess(namespace)\n",
    "\n",
    "df.head()"
   ]
  },
  {
   "cell_type": "markdown",
   "id": "492227dc",
   "metadata": {},
   "source": [
    "All tag types are gathered, so that multiple experiments may be carried out by excluding some of the columns."
   ]
  }
 ],
 "metadata": {
  "kernelspec": {
   "display_name": "VJP",
   "language": "python",
   "name": "vjp"
  },
  "language_info": {
   "codemirror_mode": {
    "name": "ipython",
    "version": 3
   },
   "file_extension": ".py",
   "mimetype": "text/x-python",
   "name": "python",
   "nbconvert_exporter": "python",
   "pygments_lexer": "ipython3",
   "version": "3.10.9"
  }
 },
 "nbformat": 4,
 "nbformat_minor": 5
}
